{
 "cells": [
  {
   "cell_type": "code",
   "execution_count": null,
   "metadata": {},
   "outputs": [],
   "source": [
    "import matplotlib\n",
    "import pandas as pd\n",
    "import numpy as np\n",
    "import seaborn as sb\n",
    "import sklearn as skl\n",
    "import os\n",
    "from matplotlib import pyplot as plt\n",
    "from sklearn.pipeline import Pipeline\n",
    "from sklearn.preprocessing import LabelEncoder"
   ]
  },
  {
   "cell_type": "markdown",
   "metadata": {},
   "source": [
    "### Load datasets"
   ]
  },
  {
   "cell_type": "code",
   "execution_count": null,
   "metadata": {},
   "outputs": [],
   "source": [
    "dados_DDos = pd.read_csv('CICIDS2017_Datasets\\Friday-WorkingHours-Afternoon-DDos.pcap_ISCX.csv', sep=',')\n",
    "dados_PortScan = pd.read_csv('CICIDS2017_Datasets\\Friday-WorkingHours-Afternoon-PortScan.pcap_ISCX.csv', sep=',')\n",
    "dados_Bot = pd.read_csv('CICIDS2017_Datasets\\Friday-WorkingHours-Morning.pcap_ISCX.csv', sep=',')\n",
    "dados_Benign = pd.read_csv('CICIDS2017_Datasets\\Monday-WorkingHours.pcap_ISCX.csv', sep=',')\n",
    "dados_Infiltration = pd.read_csv('CICIDS2017_Datasets\\Thursday-WorkingHours-Afternoon-Infilteration.pcap_ISCX.csv', sep=',')\n",
    "dados_WebAttacks = pd.read_csv('CICIDS2017_Datasets\\Thursday-WorkingHours-Morning-WebAttacks.pcap_ISCX.csv', sep=';' , encoding='latin-1')\n",
    "dados_BruteForce = pd.read_csv('CICIDS2017_Datasets\\Tuesday-WorkingHours.pcap_ISCX.csv', sep=',')\n",
    "dados_Dos = pd.read_csv('CICIDS2017_Datasets\\Wednesday-workingHours.pcap_ISCX.csv', sep=',')"
   ]
  },
  {
   "cell_type": "markdown",
   "metadata": {},
   "source": [
    "### Remove NaN values"
   ]
  },
  {
   "cell_type": "code",
   "execution_count": null,
   "metadata": {},
   "outputs": [],
   "source": [
    "for i in [dados_DDos,dados_PortScan,dados_Bot,dados_Benign,dados_Infiltration,dados_WebAttacks,dados_BruteForce,dados_Dos]:\n",
    "    i.dropna(how='any', inplace=True)\n",
    "    colNames = i.columns\n",
    "    null_columns=colNames[i.isnull().any()]\n",
    "    print(i[null_columns].isnull().sum())\n",
    "    \n",
    "for df in dados_DDos,dados_PortScan,dados_Bot,dados_Benign,dados_Infiltration,dados_WebAttacks,dados_BruteForce,dados_Dos:\n",
    "\n",
    "    df.drop(['Flow ID'],axis=1,inplace=True)\n",
    "    df.drop([' Timestamp'],axis=1,inplace=True)\n",
    "\n",
    "    df[' Bwd Packet Length Std']=df[' Bwd Packet Length Std'].astype(np.float)\n",
    "    df['Flow Bytes/s']=df['Flow Bytes/s'].astype(np.float)\n",
    "    df[' Flow Packets/s']=df[' Flow Packets/s'].astype(np.float)\n",
    "    df[' Flow IAT Std']=df[' Flow IAT Std'].astype(np.float)\n",
    "    df['Fwd Packets/s']=df['Fwd Packets/s'].astype(np.float)\n",
    "    df[' Bwd Packets/s']=df[' Bwd Packets/s'].astype(np.float)\n",
    "    df[' Packet Length Mean']=df[' Packet Length Mean'].astype(np.float)\n",
    "    df[' Packet Length Std']=df[' Packet Length Std'].astype(np.float)\n",
    "    df[' Packet Length Variance']=df[' Packet Length Variance'].astype(np.float)\n",
    "    df[' Average Packet Size']=df[' Average Packet Size'].astype(np.float)\n",
    "    df[' Avg Fwd Segment Size']=df[' Avg Fwd Segment Size'].astype(np.float)\n",
    "\n",
    "    df.replace([np.inf, -np.inf], np.nan).dropna(axis=0, inplace=True)"
   ]
  },
  {
   "cell_type": "markdown",
   "metadata": {},
   "source": [
    "### Label enconding"
   ]
  },
  {
   "cell_type": "code",
   "execution_count": null,
   "metadata": {},
   "outputs": [],
   "source": [
    "class MultiColumnLabelEncoder:\n",
    "    def __init__(self,columns = None):\n",
    "        self.columns = columns # array of column names to encode\n",
    "\n",
    "    def fit(self,X,y=None):\n",
    "        return self # not relevant here\n",
    "\n",
    "    def transform(self,X):\n",
    "        '''\n",
    "        Transforms columns of X specified in self.columns using\n",
    "        LabelEncoder(). If no columns specified, transforms all\n",
    "        columns in X.\n",
    "        '''\n",
    "        output = X.copy()\n",
    "        if self.columns is not None:\n",
    "            for col in self.columns:\n",
    "                output[col] = LabelEncoder().fit_transform(output[col])\n",
    "        else:\n",
    "            for colname,col in output.iteritems():\n",
    "                output[colname] = LabelEncoder().fit_transform(col)\n",
    "        return output\n",
    "\n",
    "    def fit_transform(self,X,y=None):\n",
    "        return self.fit(X,y).transform(X)"
   ]
  },
  {
   "cell_type": "code",
   "execution_count": null,
   "metadata": {},
   "outputs": [],
   "source": [
    "encoding_pipeline = Pipeline([\n",
    "    ('encoding',MultiColumnLabelEncoder(columns=[' Label',' Destination IP',' Source IP']))])\n",
    "\n",
    "dados_DDos = encoding_pipeline.fit_transform(dados_DDos)\n",
    "dados_PortScan = encoding_pipeline.fit_transform(dados_PortScan)\n",
    "dados_Bot = encoding_pipeline.fit_transform(dados_Bot)\n",
    "dados_Benign = encoding_pipeline.fit_transform(dados_Benign)\n",
    "dados_Infiltration = encoding_pipeline.fit_transform(dados_Infiltration)\n",
    "dados_WebAttacks = encoding_pipeline.fit_transform(dados_WebAttacks)\n",
    "dados_BruteForce = encoding_pipeline.fit_transform(dados_BruteForce)\n",
    "dados_Dos = encoding_pipeline.fit_transform(dados_Dos)\n",
    "\n",
    "dados_DDos = dados_DDos.replace([np.inf, -np.inf], np.nan).dropna(axis=0)\n",
    "dados_PortScan = dados_PortScan.replace([np.inf, -np.inf], np.nan).dropna(axis=0)\n",
    "dados_Bot = dados_Bot.replace([np.inf, -np.inf], np.nan).dropna(axis=0)\n",
    "dados_Benign = dados_Benign.replace([np.inf, -np.inf], np.nan).dropna(axis=0)\n",
    "dados_Infiltration = dados_Infiltration.replace([np.inf, -np.inf], np.nan).dropna(axis=0)\n",
    "dados_WebAttacks = dados_WebAttacks.replace([np.inf, -np.inf], np.nan).dropna(axis=0)\n",
    "dados_BruteForce = dados_BruteForce.replace([np.inf, -np.inf], np.nan).dropna(axis=0)\n",
    "dados_Dos = dados_Dos.replace([np.inf, -np.inf], np.nan).dropna(axis=0)\n",
    "\n",
    "dados_WebAttacks.rename(columns={' Fwd Header Length_1':' Fwd Header Length.1'}, inplace=True)"
   ]
  },
  {
   "cell_type": "markdown",
   "metadata": {},
   "source": [
    "### Build the exploratory graphical models"
   ]
  },
  {
   "cell_type": "code",
   "execution_count": null,
   "metadata": {},
   "outputs": [],
   "source": [
    "def make_graphics(df, directory_name):\n",
    "    colNames = df.columns\n",
    "\n",
    "    fig = plt.figure()\n",
    "    fig.set_figheight(20)\n",
    "    fig.set_figwidth(15)\n",
    "    fig.subplots_adjust(hspace=1, wspace=1)\n",
    "\n",
    "    j = 0\n",
    "    max_size = 8\n",
    "    columns_len = len(colNames)\n",
    "    os.mkdir(directory_name)\n",
    "    for i in range(1,columns_len): \n",
    "        if j == max_size:\n",
    "            fig.savefig(directory_name + \"/\" + 'visualization' + str(i/j) + '.png', bbox_inches='tight')\n",
    "\n",
    "            # create a new fig obj\n",
    "            fig = plt.figure()\n",
    "            fig.set_figheight(20)\n",
    "            fig.set_figwidth(15)\n",
    "            fig.subplots_adjust(hspace=1, wspace=1)\n",
    "\n",
    "            j = 0\n",
    "\n",
    "        \n",
    "        ax = fig.add_subplot(max_size,3,3*(j+1)-2)\n",
    "        ax.boxplot(x=df[colNames[i]],showmeans=True)\n",
    "        ax.set_title(colNames[i])\n",
    "\n",
    "        ax = fig.add_subplot(max_size,3,3*(j+1)-1)\n",
    "        ax.hist(x=df[colNames[i]], bins=20)\n",
    "        ax.axvline(df[colNames[i]].mean(), color='k', linestyle='dashed', linewidth=1)\n",
    "        ax.set_title(colNames[i])\n",
    "        ax.plot()\n",
    "\n",
    "        ax = fig.add_subplot(max_size,3,3*(j+1))\n",
    "        ax.scatter(x=df[colNames[i]], y=df[' Label'])\n",
    "        ax.set_ylabel(' Label')\n",
    "        ax.set_title(colNames[i])\n",
    "\n",
    "        j += 1\n",
    "\n",
    "    if j > 0:\n",
    "        fig.savefig(directory_name + \"/\" + 'visualization_last.png', bbox_inches='tight')\n"
   ]
  },
  {
   "cell_type": "code",
   "execution_count": null,
   "metadata": {},
   "outputs": [],
   "source": [
    "directories = [\"dados_DDos\",\"dados_PortScan\",\"dados_Bot\",\"dados_Benign\",\"dados_Infiltration\",\"dados_WebAttacks\",\"dados_BruteForce\",\"dados_Dos\"]\n",
    "data_list_obj = enumerate([dados_DDos,dados_PortScan,dados_Bot,dados_Benign,dados_Infiltration,dados_WebAttacks,dados_BruteForce,dados_Dos])\n",
    "\n",
    "for idx, df in data_list_obj:\n",
    "    make_graphics(df, directories[idx])\n",
    "    plt.savefig('visualization' + str(idx) + '.png')"
   ]
  },
  {
   "cell_type": "markdown",
   "metadata": {},
   "source": [
    "### Remove unique single value features"
   ]
  },
  {
   "cell_type": "code",
   "execution_count": null,
   "metadata": {},
   "outputs": [],
   "source": [
    "for idx, i in enumerate([dados_DDos,dados_PortScan,dados_Bot,dados_Benign,dados_Infiltration,dados_WebAttacks,dados_BruteForce,dados_Dos]):\n",
    "    i.drop([' Bwd PSH Flags'], axis=1,inplace=True)\n",
    "    i.drop([' Fwd URG Flags'], axis=1,inplace=True)\n",
    "    i.drop([' Bwd URG Flags'], axis=1,inplace=True)\n",
    "    i.drop([' CWE Flag Count'], axis=1,inplace=True)\n",
    "    i.drop(['Fwd Avg Bytes/Bulk'], axis=1,inplace=True)\n",
    "    i.drop([' Fwd Avg Packets/Bulk'], axis=1,inplace=True)\n",
    "    i.drop([' Fwd Avg Bulk Rate'], axis=1,inplace=True)\n",
    "    i.drop([' Bwd Avg Bytes/Bulk'], axis=1,inplace=True)\n",
    "    i.drop([' Bwd Avg Packets/Bulk'], axis=1,inplace=True)\n",
    "    i.drop(['Bwd Avg Bulk Rate'], axis=1,inplace=True)"
   ]
  },
  {
   "cell_type": "markdown",
   "metadata": {},
   "source": [
    "### Correlation matrix"
   ]
  },
  {
   "cell_type": "code",
   "execution_count": null,
   "metadata": {},
   "outputs": [],
   "source": [
    "datasets = [dados_DDos,dados_PortScan,dados_Bot,dados_Benign,dados_Infiltration,dados_WebAttacks,dados_BruteForce,dados_Dos]\n",
    "\n",
    "for i in datasets:\n",
    "    correlations = i.corr()\n",
    "    fig_dims = (20, 20)\n",
    "    fig, ax = plt.subplots(figsize=fig_dims)\n",
    "    correlation_matrix = sb.heatmap(correlations, xticklabels=correlations.columns, yticklabels=correlations.columns, ax=ax, cmap=\"PuBu\", vmin=-1, vmax=1)\n",
    "    #fig.savefig(\"correlation_matrix\" + str(idx) +\".png\")"
   ]
  },
  {
   "cell_type": "code",
   "execution_count": null,
   "metadata": {},
   "outputs": [],
   "source": []
  }
 ],
 "metadata": {
  "kernelspec": {
   "display_name": "Python 3",
   "language": "python",
   "name": "python3"
  },
  "language_info": {
   "codemirror_mode": {
    "name": "ipython",
    "version": 3
   },
   "file_extension": ".py",
   "mimetype": "text/x-python",
   "name": "python",
   "nbconvert_exporter": "python",
   "pygments_lexer": "ipython3",
   "version": "3.6.5"
  }
 },
 "nbformat": 4,
 "nbformat_minor": 2
}

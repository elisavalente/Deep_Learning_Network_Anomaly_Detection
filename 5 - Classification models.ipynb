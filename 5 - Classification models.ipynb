{
 "cells": [
  {
   "cell_type": "code",
   "execution_count": null,
   "metadata": {},
   "outputs": [],
   "source": [
    "from sklearn.model_selection import train_test_split\n",
    "from sklearn.metrics import accuracy_score\n",
    "from sklearn.metrics import precision_score\n",
    "from sklearn.metrics import recall_score\n",
    "from sklearn.metrics import f1_score\n",
    "from sklearn.metrics import classification_report\n",
    "from sklearn.tree import DecisionTreeClassifier\n",
    "from sklearn import svm\n",
    "\n",
    "from sklearn.model_selection import GridSearchCV\n",
    "from keras.wrappers.scikit_learn import KerasClassifier\n",
    "\n",
    "from keras.models import Sequential\n",
    "from keras.layers import Dense\n",
    "from sklearn.utils import shuffle\n",
    "import pydotplus\n",
    "import pandas as pd\n",
    "import numpy as np"
   ]
  },
  {
   "cell_type": "markdown",
   "metadata": {},
   "source": [
    "### Load original train and test set"
   ]
  },
  {
   "cell_type": "code",
   "execution_count": null,
   "metadata": {},
   "outputs": [],
   "source": [
    "DDoS_train = pd.read_csv('Train_test_data/DDoS_train.csv', sep=',') \n",
    "DDoS_test = pd.read_csv('Train_test_data/DDoS_test.csv', sep=',') \n",
    "\n",
    "PortScan_train = pd.read_csv('Train_test_data/PortScan_train.csv', sep=',') \n",
    "PortScan_test = pd.read_csv('Train_test_data/PortScan_test.csv', sep=',') \n",
    "\n",
    "Bot_train = pd.read_csv('Train_test_data/Bot_train.csv', sep=',')\n",
    "Bot_test = pd.read_csv('Train_test_data/Bot_test.csv', sep=',') \n",
    "\n",
    "WebAttack_train = pd.read_csv('Train_test_data/WebAttack_train.csv', sep=',') \n",
    "WebAttack_test = pd.read_csv('Train_test_data/WebAttack_test.csv', sep=',') \n",
    "\n",
    "Brute_Force_train = pd.read_csv('Train_test_data/Brute_Force_train.csv', sep=',') \n",
    "Brute_Force_test = pd.read_csv('Train_test_data/Brute_Force_test.csv', sep=',') \n",
    "\n",
    "DoS_train = pd.read_csv('Train_test_data/Dos_train.csv', sep=',')\n",
    "DoS_test = pd.read_csv('Train_test_data/Dos_test.csv', sep=',') "
   ]
  },
  {
   "cell_type": "markdown",
   "metadata": {},
   "source": [
    "### Load GAN balanced training set"
   ]
  },
  {
   "cell_type": "code",
   "execution_count": null,
   "metadata": {},
   "outputs": [],
   "source": [
    "GAN_Bot_train = pd.read_csv('GAN_generation\\GAN_Balanced_Data\\GAN_Bot_train.csv', sep=',')\n",
    "GAN_WebAttack_train = pd.read_csv('GAN_generation\\GAN_Balanced_Data\\GAN_WebAttack_train.csv', sep=',')\n",
    "GAN_Brute_Force_train = pd.read_csv('GAN_generation\\GAN_Balanced_Data\\GAN_Brute_Force_train.csv', sep=',')\n",
    "GAN_DoS_train = pd.read_csv('GAN_generation\\GAN_Balanced_Data\\GAN_DoS_train.csv', sep=',')\n",
    "\n",
    "WGAN_GP_Bot_train = pd.read_csv('GAN_generation\\WGAN_GP_Balanced_Data\\WGAN_GP_Bot_train.csv', sep=',')\n",
    "WGAN_GP_WebAttack_train = pd.read_csv('GAN_generation\\WGAN_GP_Balanced_Data\\WGAN_GP_WebAttack_train.csv', sep=',')\n",
    "WGAN_GP_Brute_Force_train = pd.read_csv('GAN_generation\\WGAN_GP_Balanced_Data\\WGAN_GP_Brute_Force_train.csv', sep=',')\n",
    "WGAN_GP_DoS_train = pd.read_csv('GAN_generation\\WGAN_GP_Balanced_Data\\WGAN_GP_DoS_train.csv', sep=',')"
   ]
  },
  {
   "cell_type": "markdown",
   "metadata": {},
   "source": [
    "### Load SMOTE balanced training set"
   ]
  },
  {
   "cell_type": "code",
   "execution_count": null,
   "metadata": {},
   "outputs": [],
   "source": [
    "SMOTE_Botnet_train = pd.read_csv('SMOTE_Balanced_Data\\Botnet_smote_train.csv', sep=',')\n",
    "SMOTE_WebAttack_train = pd.read_csv('SMOTE_Balanced_Data\\WebAttack_smote_train.csv', sep=',')\n",
    "SMOTE_Brute_Force_train = pd.read_csv('SMOTE_Balanced_Data\\Brute_Force_smote_train.csv', sep=',')\n",
    "SMOTE_DoS_train = pd.read_csv('SMOTE_Balanced_Data\\Dos_smote_train.csv', sep=',')"
   ]
  },
  {
   "cell_type": "markdown",
   "metadata": {},
   "source": [
    "### Original dataset X-Y train-test split"
   ]
  },
  {
   "cell_type": "code",
   "execution_count": null,
   "metadata": {},
   "outputs": [],
   "source": [
    "X_DDoS_train = DDoS_train.values[:,:-1]\n",
    "X_DDoS_test = DDoS_test.values[:,:-1]\n",
    "\n",
    "Y_DDoS_train = DDoS_train.values[:,-1:]\n",
    "Y_DDoS_test = DDoS_test.values[:,-1:]\n",
    "\n",
    "\n",
    "X_PortScan_train = PortScan_train.values[:,:-1]\n",
    "X_PortScan_test = PortScan_test.values[:,:-1]\n",
    "\n",
    "Y_PortScan_train = PortScan_train.values[:,-1:]\n",
    "Y_PortScan_test = PortScan_test.values[:,-1:]\n",
    "\n",
    "\n",
    "X_Bot_train = Bot_train.values[:,:-1]\n",
    "X_Bot_test = Bot_test.values[:,:-1]\n",
    "\n",
    "Y_Bot_train = Bot_train.values[:,-1:]\n",
    "Y_Bot_test = Bot_test.values[:,-1:]\n",
    "\n",
    "\n",
    "#Multi-class label\n",
    "\n",
    "X_WebAttack_train = WebAttack_train.values[:,:-1]\n",
    "X_WebAttack_test = WebAttack_test.values[:,:-1]\n",
    "\n",
    "Y_WebAttack_train = WebAttack_train.values[:,-1:]\n",
    "Y_WebAttack_test = WebAttack_test.values[:,-1:]\n",
    "\n",
    "\n",
    "X_Brute_Force_train = Brute_Force_train.values[:,:-1]\n",
    "X_Brute_Force_test = Brute_Force_test.values[:,:-1]\n",
    "\n",
    "Y_Brute_Force_train = Brute_Force_train.values[:,-1:]\n",
    "Y_Brute_Force_test = Brute_Force_test.values[:,-1:]\n",
    "\n",
    "\n",
    "X_DoS_train = Dos_train.values[:,:-1]\n",
    "X_DoS_test = Dos_test.values[:,:-1]\n",
    "\n",
    "Y_DoS_train = Dos_train.values[:,-1:]\n",
    "Y_DoS_test = Dos_test.values[:,-1:]"
   ]
  },
  {
   "cell_type": "markdown",
   "metadata": {},
   "source": [
    "### Generated data X-Y train-test split"
   ]
  },
  {
   "cell_type": "code",
   "execution_count": null,
   "metadata": {},
   "outputs": [],
   "source": [
    "#GAN and WGAN-GP\n",
    "X_GAN_Bot_train = GAN_Bot_train.values[:,:-1]\n",
    "Y_GAN_Bot_train = GAN_Bot_train.values[:,-1:]\n",
    "\n",
    "X_WGAN_GP_Bot_train = WGAN_GP_Bot_train.values[:,:-1]\n",
    "Y_WGAN_GP_Bot_train = WGAN_GP_Bot_train.values[:,-1:]\n",
    "\n",
    "X_GAN_WebAttack_train = GAN_WebAttack_train.values[:,:-1]\n",
    "Y_GAN_WebAttack_train = GAN_WebAttack_train.values[:,-1:]\n",
    "\n",
    "X_WGAN_GP_WebAttack_train = WGAN_GP_WebAttack_train.values[:,:-1]\n",
    "Y_WGAN_GP_WebAttack_train = WGAN_GP_WebAttack_train.values[:,-1:]\n",
    "\n",
    "X_GAN_Brute_Force_train = GAN_Brute_Force_train.values[:,:-1]\n",
    "Y_GAN_Brute_Force_train = GAN_Brute_Force_train.values[:,-1:]\n",
    "\n",
    "X_WGAN_GP_Brute_Force_train = WGAN_GP_Brute_Force_train.values[:,:-1]\n",
    "Y_WGAN_GP_Brute_Force_train = WGAN_GP_Brute_Force_train.values[:,-1:]\n",
    "\n",
    "X_GAN_DoS_train = GAN_DoS_train.values[:,:-1]\n",
    "Y_GAN_DoS_train = GAN_DoS_train.values[:,-1:]\n",
    "\n",
    "X_WGAN_GP_DoS_train = WGAN_GP_DoS_train.values[:,:-1]\n",
    "Y_WGAN_GP_DoS_train = WGAN_GP_DoS_train.values[:,-1:]\n",
    "\n",
    "#SMOTE\n",
    "X_SMOTE_Bot_train = SMOTE_Botnet_train.values[:,:-1]\n",
    "Y_SMOTE_Bot_train = SMOTE_Botnet_train.values[:,-1:]\n",
    "\n",
    "X_SMOTE_WebAttack_train = SMOTE_WebAttack_train.values[:,:-1]\n",
    "Y_SMOTE_WebAttack_train = SMOTE_WebAttack_train.values[:,-1:]\n",
    "\n",
    "X_SMOTE_Brute_Force_train = SMOTE_Brute_Force_train.values[:,:-1]\n",
    "Y_SMOTE_Brute_Force_train = SMOTE_Brute_Force_train.values[:,-1:]\n",
    "\n",
    "X_SMOTE_DoS_train = SMOTE_DoS_train.values[:,:-1]\n",
    "Y_SMOTE_DoS_train = SMOTE_DoS_train.values[:,-1:]"
   ]
  },
  {
   "cell_type": "markdown",
   "metadata": {},
   "source": [
    "### Select the dataset for the models "
   ]
  },
  {
   "cell_type": "code",
   "execution_count": null,
   "metadata": {},
   "outputs": [],
   "source": [
    "DATASET = DDoS_train\n",
    "\n",
    "X_train = X_DDoS_train\n",
    "X_test = X_DDoS_test\n",
    "\n",
    "Y_train = Y_DDoS_train\n",
    "Y_test = Y_DDoS_test"
   ]
  },
  {
   "cell_type": "markdown",
   "metadata": {},
   "source": [
    "### ANN model for binary classification"
   ]
  },
  {
   "cell_type": "code",
   "execution_count": null,
   "metadata": {},
   "outputs": [],
   "source": [
    "model = Sequential()\n",
    "model.add(Dense(128, input_dim=len(DATASET.columns)-1, activation='softmax'))\n",
    "model.add(Dense(32, activation='relu'))\n",
    "model.add(Dense(16, activation='relu'))\n",
    "model.add(Dense(1, activation=\"sigmoid\")) #sigmoid\n",
    "# compile the keras model\n",
    "model.compile(loss='binary_crossentropy', optimizer='Nadam', metrics=['accuracy']) #binary_crossentropy# fit the keras model on the dataset\n",
    "model.fit(X_train, Y_train, epochs=30, batch_size=1000) #bot 20 epochs"
   ]
  },
  {
   "cell_type": "markdown",
   "metadata": {},
   "source": [
    "### ANN Prediction for binary classification "
   ]
  },
  {
   "cell_type": "code",
   "execution_count": null,
   "metadata": {},
   "outputs": [],
   "source": [
    "# predict probabilities for test set\n",
    "yhat_probs = model.predict(X_test, verbose=1) \n",
    "# predict crisp classes for test set\n",
    "yhat_classes = model.predict_classes(X_test, verbose=0) \n",
    "# reduce to 1d array\n",
    "yhat_probs = yhat_probs[:, 0]\n",
    "yhat_classes = yhat_classes[:, 0]\n",
    "\n",
    "print(classification_report(Y_test, yhat_classes, digits=5))"
   ]
  },
  {
   "cell_type": "markdown",
   "metadata": {},
   "source": [
    "### ANN model for multi-class classification"
   ]
  },
  {
   "cell_type": "code",
   "execution_count": null,
   "metadata": {},
   "outputs": [],
   "source": [
    "model = Sequential()\n",
    "model.add(Dense(128, input_dim=len(DATASET.columns)-1, activation='softmax'))\n",
    "model.add(Dense(32, activation='relu'))\n",
    "model.add(Dense(16, activation='relu'))\n",
    "model.add(Dense(3, activation=\"softmax\")) # WebAttacks = 3 BruteForce = 3 Dos = 5\n",
    "# compile the keras model\n",
    "model.compile(loss='sparse_categorical_crossentropy', optimizer='Nadam', metrics=['accuracy'])\n",
    "model.fit(X_train, Y_train, epochs=30, batch_size=1000)"
   ]
  },
  {
   "cell_type": "markdown",
   "metadata": {},
   "source": [
    "### ANN Prediction for multi-class classification"
   ]
  },
  {
   "cell_type": "code",
   "execution_count": null,
   "metadata": {},
   "outputs": [],
   "source": [
    "y_pred = model.predict(X_test, verbose=1)\n",
    "#y_pred\n",
    "y_pred_bool = np.argmax(y_pred.tolist(), axis=1)\n",
    "#y_pred_bool\n",
    "print(classification_report(Y_test, y_pred_bool, digits=5))"
   ]
  },
  {
   "cell_type": "markdown",
   "metadata": {},
   "source": [
    "### DT model"
   ]
  },
  {
   "cell_type": "code",
   "execution_count": null,
   "metadata": {},
   "outputs": [],
   "source": [
    "tree = DecisionTreeClassifier()\n",
    "clf=tree.fit(X_train, Y_train)"
   ]
  },
  {
   "cell_type": "markdown",
   "metadata": {},
   "source": [
    "### DT Prediction"
   ]
  },
  {
   "cell_type": "code",
   "execution_count": null,
   "metadata": {},
   "outputs": [],
   "source": [
    "# predict probabilities for test set\n",
    "yhat_probs = clf.predict(X_test)\n",
    "print(classification_report(Y_test, yhat_probs, digits=5))"
   ]
  },
  {
   "cell_type": "code",
   "execution_count": null,
   "metadata": {},
   "outputs": [],
   "source": []
  }
 ],
 "metadata": {
  "kernelspec": {
   "display_name": "Python 3",
   "language": "python",
   "name": "python3"
  },
  "language_info": {
   "codemirror_mode": {
    "name": "ipython",
    "version": 3
   },
   "file_extension": ".py",
   "mimetype": "text/x-python",
   "name": "python",
   "nbconvert_exporter": "python",
   "pygments_lexer": "ipython3",
   "version": "3.6.5"
  }
 },
 "nbformat": 4,
 "nbformat_minor": 2
}

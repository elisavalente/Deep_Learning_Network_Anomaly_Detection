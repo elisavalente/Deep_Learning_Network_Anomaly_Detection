{
 "cells": [
  {
   "cell_type": "code",
   "execution_count": 1,
   "metadata": {},
   "outputs": [],
   "source": [
    "from sklearn import impute, preprocessing, metrics\n",
    "from sklearn.preprocessing import LabelEncoder\n",
    "from sklearn.utils import shuffle\n",
    "import pandas as pd\n",
    "import numpy as np\n",
    "import sklearn as skl\n",
    "from numpy import loadtxt\n",
    "from collections import Counter"
   ]
  },
  {
   "cell_type": "markdown",
   "metadata": {},
   "source": [
    "### Load Datasets"
   ]
  },
  {
   "cell_type": "code",
   "execution_count": 2,
   "metadata": {},
   "outputs": [],
   "source": [
    "dados_DDos = pd.read_csv('CICIDS2017_Datasets\\Friday-WorkingHours-Afternoon-DDos.pcap_ISCX.csv', sep=',')\n",
    "dados_PortScan = pd.read_csv('CICIDS2017_Datasets\\Friday-WorkingHours-Afternoon-PortScan.pcap_ISCX.csv', sep=',')\n",
    "dados_Bot = pd.read_csv('CICIDS2017_Datasets\\Friday-WorkingHours-Morning.pcap_ISCX.csv', sep=',')"
   ]
  },
  {
   "cell_type": "markdown",
   "metadata": {},
   "source": [
    "### Delete rows with NaN Values"
   ]
  },
  {
   "cell_type": "code",
   "execution_count": 26,
   "metadata": {},
   "outputs": [],
   "source": [
    "for i in [dados_DDos,dados_PortScan,dados_Bot]:\n",
    "    i.dropna(how='any', inplace=True)"
   ]
  },
  {
   "cell_type": "code",
   "execution_count": 27,
   "metadata": {},
   "outputs": [],
   "source": [
    "for df in dados_DDos,dados_PortScan,dados_Bot:\n",
    "\n",
    "    df.drop(['Flow ID'],axis=1,inplace=True)\n",
    "    df.drop([' Timestamp'],axis=1,inplace=True)\n",
    "    df.drop([' Source IP'], axis=1,inplace=True)\n",
    "    df.drop([' Destination IP'], axis=1,inplace=True)\n",
    "    df[' Bwd Packet Length Std']=df[' Bwd Packet Length Std'].astype(np.float)\n",
    "    df['Flow Bytes/s']=df['Flow Bytes/s'].astype(np.float)\n",
    "    df[' Flow Packets/s']=df[' Flow Packets/s'].astype(np.float)\n",
    "    df[' Flow IAT Std']=df[' Flow IAT Std'].astype(np.float)\n",
    "    df['Fwd Packets/s']=df['Fwd Packets/s'].astype(np.float)\n",
    "    df[' Bwd Packets/s']=df[' Bwd Packets/s'].astype(np.float)\n",
    "    df[' Packet Length Mean']=df[' Packet Length Mean'].astype(np.float)\n",
    "    df[' Packet Length Std']=df[' Packet Length Std'].astype(np.float)\n",
    "    df[' Packet Length Variance']=df[' Packet Length Variance'].astype(np.float)\n",
    "    df[' Average Packet Size']=df[' Average Packet Size'].astype(np.float)\n",
    "    df[' Avg Fwd Segment Size']=df[' Avg Fwd Segment Size'].astype(np.float)\n",
    "    df.replace([np.inf, -np.inf], np.nan).dropna(axis=0, inplace=True)"
   ]
  },
  {
   "cell_type": "markdown",
   "metadata": {},
   "source": [
    "### Multi Column Label Encoder"
   ]
  },
  {
   "cell_type": "code",
   "execution_count": 28,
   "metadata": {},
   "outputs": [],
   "source": [
    "class MultiColumnLabelEncoder:\n",
    "    def __init__(self,columns = None):\n",
    "        self.columns = columns # array of column names to encode\n",
    "\n",
    "    def fit(self,X,y=None):\n",
    "        return self # not relevant here\n",
    "\n",
    "    def transform(self,X):\n",
    "        output = X.copy()\n",
    "        if self.columns is not None:\n",
    "            for col in self.columns:\n",
    "                output[col] = LabelEncoder().fit_transform(output[col])\n",
    "        else:\n",
    "            for colname,col in output.iteritems():\n",
    "                output[colname] = LabelEncoder().fit_transform(col)\n",
    "        return output\n",
    "\n",
    "    def fit_transform(self,X,y=None):\n",
    "        return self.fit(X,y).transform(X)"
   ]
  },
  {
   "cell_type": "code",
   "execution_count": 29,
   "metadata": {},
   "outputs": [],
   "source": [
    "class_name_DDos = dados_DDos[' Label'].unique()\n",
    "class_name_PortScan = dados_PortScan[' Label'].unique()\n",
    "class_name_Bot = dados_Bot[' Label'].unique()\n",
    "\n",
    "for i in [dados_DDos,dados_PortScan,dados_Bot]:\n",
    "    label_encoder = preprocessing.LabelEncoder()\n",
    "    input_classes = i[' Label'].unique()\n",
    "    label_encoder.fit(input_classes)\n",
    "    i[' Label'] = label_encoder.transform(i[' Label'])"
   ]
  },
  {
   "cell_type": "markdown",
   "metadata": {},
   "source": [
    "### Negative values check"
   ]
  },
  {
   "cell_type": "code",
   "execution_count": 30,
   "metadata": {},
   "outputs": [
    {
     "name": "stdout",
     "output_type": "stream",
     "text": [
      "----------------------------\n",
      " Flow Duration : 2\n",
      "Flow Bytes/s : 2\n",
      " Flow Packets/s : 2\n",
      " Flow IAT Mean : 2\n",
      " Flow IAT Max : 2\n",
      " Flow IAT Min : 108\n",
      " Fwd IAT Min : 6\n",
      "Init_Win_bytes_forward : 32925\n",
      " Init_Win_bytes_backward : 88296\n",
      "----------------------------\n",
      " Flow Duration : 36\n",
      "Flow Bytes/s : 36\n",
      " Flow Packets/s : 36\n",
      " Flow IAT Mean : 36\n",
      " Flow IAT Max : 36\n",
      " Flow IAT Min : 176\n",
      "Init_Win_bytes_forward : 60210\n",
      " Init_Win_bytes_backward : 76936\n",
      "----------------------------\n",
      " Flow Duration : 9\n",
      "Flow Bytes/s : 8\n",
      " Flow Packets/s : 9\n",
      " Flow IAT Mean : 9\n",
      " Flow IAT Max : 9\n",
      " Flow IAT Min : 225\n",
      "Init_Win_bytes_forward : 95834\n",
      " Init_Win_bytes_backward : 118403\n"
     ]
    }
   ],
   "source": [
    "for df in [dados_DDos,dados_PortScan,dados_Bot]:\n",
    "    columns = df.columns\n",
    "    print('----------------------------')\n",
    "    for i in columns:\n",
    "        if (df[i] < 0).any():\n",
    "            number_of_negatives = np.sum((df[i] < 0).values.ravel())\n",
    "            print(i + ' : '+ str(number_of_negatives))"
   ]
  },
  {
   "cell_type": "markdown",
   "metadata": {},
   "source": [
    "### Drop single unique value features and the two features with high number of negatives"
   ]
  },
  {
   "cell_type": "code",
   "execution_count": 31,
   "metadata": {},
   "outputs": [],
   "source": [
    "for i in dados_DDos,dados_PortScan,dados_Bot:\n",
    "    i.drop([' Bwd PSH Flags'], axis=1,inplace=True)\n",
    "    i.drop([' Fwd URG Flags'], axis=1,inplace=True)\n",
    "    i.drop([' Bwd URG Flags'], axis=1,inplace=True)\n",
    "    i.drop([' CWE Flag Count'], axis=1,inplace=True)\n",
    "    i.drop(['Fwd Avg Bytes/Bulk'], axis=1,inplace=True)\n",
    "    i.drop([' Fwd Avg Packets/Bulk'], axis=1,inplace=True)\n",
    "    i.drop([' Fwd Avg Bulk Rate'], axis=1,inplace=True)\n",
    "    i.drop([' Bwd Avg Bytes/Bulk'], axis=1,inplace=True)\n",
    "    i.drop([' Bwd Avg Packets/Bulk'], axis=1,inplace=True)\n",
    "    i.drop(['Bwd Avg Bulk Rate'], axis=1,inplace=True)\n",
    "    i.drop(['Init_Win_bytes_forward'], axis=1,inplace=True) #muitos valores negativos\n",
    "    i.drop([' Init_Win_bytes_backward'], axis=1,inplace=True) #muitos valores negativos\n",
    "\n",
    "dados_DDos = dados_DDos.replace([np.inf, -np.inf], np.nan).dropna(axis=0)\n",
    "dados_PortScan = dados_PortScan.replace([np.inf, -np.inf], np.nan).dropna(axis=0)\n",
    "dados_Bot = dados_Bot.replace([np.inf, -np.inf], np.nan).dropna(axis=0)"
   ]
  },
  {
   "cell_type": "markdown",
   "metadata": {},
   "source": [
    "### Remove all rows with negative values"
   ]
  },
  {
   "cell_type": "code",
   "execution_count": 32,
   "metadata": {},
   "outputs": [],
   "source": [
    "############## Convert negative values to NaN \n",
    "dados_DDos_without_neg = dados_DDos[dados_DDos >= 0]\n",
    "dados_PortScan_without_neg = dados_PortScan[dados_PortScan >= 0]\n",
    "dados_Bot_without_neg = dados_Bot[dados_Bot >= 0]\n",
    "\n",
    "############# Remove the rows with NaN \n",
    "dados_DDos_without_neg = dados_DDos_without_neg.replace([np.inf, -np.inf], np.nan).dropna(axis=0)\n",
    "dados_PortScan_without_neg = dados_PortScan_without_neg.replace([np.inf, -np.inf], np.nan).dropna(axis=0)\n",
    "dados_Bot_without_neg = dados_Bot_without_neg.replace([np.inf, -np.inf], np.nan).dropna(axis=0)\n"
   ]
  },
  {
   "cell_type": "markdown",
   "metadata": {},
   "source": [
    "### Check the variables correlation"
   ]
  },
  {
   "cell_type": "code",
   "execution_count": 33,
   "metadata": {},
   "outputs": [
    {
     "name": "stdout",
     "output_type": "stream",
     "text": [
      " Source Port          0.388664\n",
      " Destination Port     0.509905\n",
      " Protocol             0.472331\n",
      " Flow Duration        0.026140\n",
      " Total Fwd Packets    0.028816\n",
      "                        ...   \n",
      "Idle Mean             0.087055\n",
      " Idle Std             0.077925\n",
      " Idle Max             0.096691\n",
      " Idle Min             0.061214\n",
      " Label                1.000000\n",
      "Length: 69, dtype: float64\n",
      " Destination Port              Destination Port               1.0\n",
      " Protocol                      Protocol                       1.0\n",
      " Flow Duration                 Flow Duration                  1.0\n",
      " Total Fwd Packets             Total Fwd Packets              1.0\n",
      "                              Subflow Fwd Packets             1.0\n",
      " Total Backward Packets        Total Backward Packets         1.0\n",
      "                               Subflow Bwd Packets            1.0\n",
      "Total Length of Fwd Packets   Total Length of Fwd Packets     1.0\n",
      "                               Subflow Fwd Bytes              1.0\n",
      " Total Length of Bwd Packets   Total Length of Bwd Packets    1.0\n",
      "                               Subflow Bwd Bytes              1.0\n",
      " Fwd Packet Length Max         Fwd Packet Length Max          1.0\n",
      " Fwd Packet Length Min         Fwd Packet Length Min          1.0\n",
      " Fwd Packet Length Mean        Fwd Packet Length Mean         1.0\n",
      "                               Avg Fwd Segment Size           1.0\n",
      " Fwd Packet Length Std         Fwd Packet Length Std          1.0\n",
      "Bwd Packet Length Max         Bwd Packet Length Max           1.0\n",
      "Fwd PSH Flags                  SYN Flag Count                 1.0\n",
      " Fwd Header Length             Fwd Header Length              1.0\n",
      "                               Fwd Header Length.1            1.0\n",
      "Fwd Packets/s                 Fwd Packets/s                   1.0\n",
      " Fwd Header Length.1           Fwd Header Length              1.0\n",
      "                               Fwd Header Length.1            1.0\n",
      "Subflow Fwd Packets            Total Fwd Packets              1.0\n",
      "                              Subflow Fwd Packets             1.0\n",
      " Subflow Fwd Bytes            Total Length of Fwd Packets     1.0\n",
      "                               Subflow Fwd Bytes              1.0\n",
      " Subflow Bwd Packets           Total Backward Packets         1.0\n",
      "                               Subflow Bwd Packets            1.0\n",
      " Subflow Bwd Bytes             Total Length of Bwd Packets    1.0\n",
      "                               Subflow Bwd Bytes              1.0\n",
      " act_data_pkt_fwd              act_data_pkt_fwd               1.0\n",
      " min_seg_size_forward          min_seg_size_forward           1.0\n",
      "Active Mean                   Active Mean                     1.0\n",
      " Active Std                    Active Std                     1.0\n",
      " Active Max                    Active Max                     1.0\n",
      " Active Min                    Active Min                     1.0\n",
      "Idle Mean                     Idle Mean                       1.0\n",
      " Avg Bwd Segment Size          Avg Bwd Segment Size           1.0\n",
      " Idle Max                      Idle Max                       1.0\n",
      " Avg Fwd Segment Size          Avg Fwd Segment Size           1.0\n",
      " Average Packet Size           Average Packet Size            1.0\n",
      " Bwd Packets/s                 Bwd Packets/s                  1.0\n",
      " Min Packet Length             Min Packet Length              1.0\n",
      " Max Packet Length             Max Packet Length              1.0\n",
      " Packet Length Mean            Packet Length Mean             1.0\n",
      " Packet Length Std             Packet Length Std              1.0\n",
      " Packet Length Variance        Packet Length Variance         1.0\n",
      "FIN Flag Count                FIN Flag Count                  1.0\n",
      " SYN Flag Count               Fwd PSH Flags                   1.0\n",
      "                               SYN Flag Count                 1.0\n",
      " RST Flag Count                RST Flag Count                 1.0\n",
      "                               ECE Flag Count                 1.0\n",
      " PSH Flag Count                PSH Flag Count                 1.0\n",
      " ACK Flag Count                ACK Flag Count                 1.0\n",
      " URG Flag Count                URG Flag Count                 1.0\n",
      " ECE Flag Count                RST Flag Count                 1.0\n",
      "                               ECE Flag Count                 1.0\n",
      " Down/Up Ratio                 Down/Up Ratio                  1.0\n",
      " Avg Fwd Segment Size          Fwd Packet Length Mean         1.0\n",
      "dtype: float64\n",
      " Idle Min\t Fwd IAT Max\t0.7241967658968497\n",
      " Idle Min\t Idle Max\t0.7420488934305058\n",
      " Idle Min\tIdle Mean\t0.9107927951512903\n",
      " Destination Port\t Source Port\t0.7270490347996473\n",
      " Bwd Packet Length Min\t Protocol\t0.727133648447286\n",
      " Bwd Packet Length Min\t Min Packet Length\t0.7279061065283559\n",
      " ACK Flag Count\t PSH Flag Count\t0.7281304061526627\n",
      " Fwd IAT Mean\t Bwd IAT Mean\t0.7332324039225274\n",
      " Fwd IAT Mean\t Fwd IAT Std\t0.7585668700767235\n",
      " Fwd IAT Mean\tFwd IAT Total\t0.7703779036650503\n",
      " Fwd IAT Mean\t Idle Max\t0.8073486563117818\n",
      " Fwd IAT Mean\t Fwd IAT Max\t0.8195121716249217\n",
      " Flow IAT Max\t Idle Min\t0.7391915448342171\n",
      " Flow IAT Max\t Fwd IAT Mean\t0.8118828474687457\n",
      " Flow IAT Max\t Flow IAT Mean\t0.8512886916336065\n",
      " Flow IAT Max\tFwd IAT Total\t0.9176351190666778\n",
      " Flow IAT Max\tIdle Mean\t0.9495903756663202\n",
      " Flow IAT Max\t Fwd IAT Std\t0.9716954945185882\n",
      " Flow IAT Std\t Idle Min\t0.7430587942536475\n",
      " Flow IAT Std\t Fwd IAT Mean\t0.8757719892356842\n",
      " Flow IAT Std\tFwd IAT Total\t0.8947210997776722\n",
      " Flow IAT Std\t Flow Duration\t0.8996445828687564\n",
      " Flow IAT Std\t Fwd IAT Std\t0.9356254233935493\n",
      " Flow IAT Std\tIdle Mean\t0.9382515395213544\n",
      " Flow IAT Std\t Idle Max\t0.9758733033663112\n",
      " Flow IAT Std\t Flow IAT Max\t0.9780959075809332\n",
      " URG Flag Count\t Destination Port\t0.7513312892086562\n",
      " PSH Flag Count\t Packet Length Mean\t0.7552967240052433\n",
      " PSH Flag Count\t Average Packet Size\t0.7602283222358274\n",
      " act_data_pkt_fwd\t Bwd Header Length\t0.7641743621608014\n",
      " act_data_pkt_fwd\t Fwd Header Length.1\t0.7952065966830097\n",
      " act_data_pkt_fwd\t Total Length of Bwd Packets\t0.838752636926883\n",
      " act_data_pkt_fwd\t Subflow Bwd Bytes\t0.838752636926883\n",
      " act_data_pkt_fwd\t Total Backward Packets\t0.8681668995847001\n",
      " act_data_pkt_fwd\t Subflow Bwd Packets\t0.8681668995847001\n",
      " act_data_pkt_fwd\t Total Fwd Packets\t0.8900167533338562\n",
      " act_data_pkt_fwd\tSubflow Fwd Packets\t0.8900167533338562\n",
      " Flow Duration\t Fwd IAT Mean\t0.7660336623848385\n",
      " Flow Duration\t Flow IAT Max\t0.9205859461184712\n",
      " Flow Duration\tFwd IAT Total\t0.9970541994380234\n",
      "Idle Mean\t Fwd IAT Mean\t0.7795336506619794\n",
      "Idle Mean\t Flow Duration\t0.8721172044850285\n",
      "Idle Mean\t Fwd IAT Max\t0.9401642676995351\n",
      " Packet Length Variance\t Avg Bwd Segment Size\t0.781578752733889\n",
      " Packet Length Variance\t Bwd Packet Length Mean\t0.7815787527338957\n",
      " Packet Length Variance\t Average Packet Size\t0.8508893263028617\n",
      " Packet Length Variance\tBwd Packet Length Max\t0.8549156292386473\n",
      " Packet Length Variance\t Max Packet Length\t0.9305115065589319\n",
      " Flow IAT Mean\t Fwd IAT Std\t0.7831856165278004\n",
      " Flow IAT Mean\tFwd IAT Total\t0.7929288098760137\n",
      " Flow IAT Mean\t Flow Duration\t0.7986015016975833\n",
      " Flow IAT Mean\tIdle Mean\t0.8141461003761994\n",
      " Flow IAT Mean\t Fwd IAT Max\t0.8406508822233644\n",
      " Flow IAT Mean\t Flow IAT Std\t0.9175077162571149\n",
      " Flow IAT Mean\t Fwd IAT Mean\t0.9210631783297505\n",
      " Bwd IAT Mean\t Fwd IAT Min\t0.7883241669819386\n",
      " Bwd IAT Mean\t Bwd IAT Min\t0.8702394639023336\n",
      " Fwd Header Length\t act_data_pkt_fwd\t0.7952065966830097\n",
      " Fwd Header Length\t Total Length of Bwd Packets\t0.9105522418166841\n",
      " Fwd Header Length\t Subflow Bwd Packets\t0.9388149511764194\n",
      " Fwd Header Length\t Total Backward Packets\t0.9388149511764194\n",
      " Fwd Header Length\t Total Fwd Packets\t0.9670865028263532\n",
      " Bwd IAT Std\tBwd IAT Total\t0.8219501909533782\n",
      " Bwd IAT Std\t Bwd IAT Max\t0.9587277825966573\n",
      " Packet Length Mean\t Bwd Packet Length Std\t0.8233709024515979\n",
      " Packet Length Mean\tBwd Packet Length Max\t0.8334463341041484\n",
      " Packet Length Mean\t Packet Length Variance\t0.8449816346324334\n",
      " Packet Length Mean\t Bwd Packet Length Mean\t0.8721871701867876\n",
      " Packet Length Mean\t Max Packet Length\t0.9040885268336334\n",
      " Packet Length Mean\t Average Packet Size\t0.9993608621786074\n",
      " Average Packet Size\t Bwd Packet Length Std\t0.8242282621468497\n",
      " Average Packet Size\tBwd Packet Length Max\t0.8327911898013393\n",
      " Average Packet Size\t Packet Length Std\t0.9505139559695273\n",
      " Max Packet Length\t Avg Bwd Segment Size\t0.833592491779244\n",
      " Max Packet Length\t Average Packet Size\t0.9000858345269205\n",
      " Bwd Packet Length Mean\t Max Packet Length\t0.8335924917792454\n",
      " Bwd Packet Length Mean\t Average Packet Size\t0.8701965708096477\n",
      " Bwd Packet Length Mean\t Bwd Packet Length Std\t0.9560965669296516\n",
      " Idle Max\t Flow IAT Mean\t0.8422103137113747\n",
      " Idle Max\tFwd IAT Total\t0.9168373283791893\n",
      " Idle Max\t Flow Duration\t0.9195218103833356\n",
      " Idle Max\tIdle Mean\t0.9525789946574061\n",
      " Idle Max\t Fwd IAT Std\t0.9698954284697705\n",
      " Idle Max\t Fwd IAT Max\t0.992993370199627\n",
      " Idle Max\t Flow IAT Max\t0.9972633655730211\n",
      " Fwd Packet Length Std\t Subflow Fwd Bytes\t0.8449522750307971\n",
      " Fwd Packet Length Std\t Avg Fwd Segment Size\t0.9195544060756378\n",
      " Fwd Packet Length Std\t Fwd Packet Length Max\t0.9916860419691955\n",
      "Total Length of Fwd Packets\t Fwd Packet Length Std\t0.8449522750307971\n",
      "Total Length of Fwd Packets\t Fwd Packet Length Mean\t0.8640193052044075\n",
      " Bwd IAT Max\tBwd IAT Total\t0.845012746187446\n",
      " Fwd Packet Length Max\t Subflow Fwd Bytes\t0.8576734211858476\n",
      " Fwd Packet Length Max\tTotal Length of Fwd Packets\t0.8576734211858476\n",
      " Avg Bwd Segment Size\t Packet Length Std\t0.8633004451873055\n",
      " Avg Bwd Segment Size\t Average Packet Size\t0.8701965708096502\n",
      " Avg Bwd Segment Size\t Packet Length Mean\t0.8721871701867908\n",
      " Avg Bwd Segment Size\t Bwd Packet Length Std\t0.956096566929645\n",
      " Avg Bwd Segment Size\t Bwd Packet Length Mean\t0.9999999999999998\n",
      " Packet Length Std\t Bwd Packet Length Mean\t0.8633004451873121\n",
      " Packet Length Std\tBwd Packet Length Max\t0.885980741503865\n",
      " Packet Length Std\t Bwd Packet Length Std\t0.8892709353210374\n",
      " Packet Length Std\t Packet Length Variance\t0.9497899546740662\n",
      " Packet Length Std\t Packet Length Mean\t0.9511738220363682\n",
      " Packet Length Std\t Max Packet Length\t0.9840522400499575\n",
      " Avg Fwd Segment Size\t Subflow Fwd Bytes\t0.8640193052044075\n",
      " Avg Fwd Segment Size\tTotal Length of Fwd Packets\t0.8640193052044075\n",
      " Avg Fwd Segment Size\t Fwd Packet Length Max\t0.9409458163201176\n",
      " Subflow Fwd Bytes\t Fwd Packet Length Mean\t0.8640193052044075\n",
      "Fwd IAT Total\tIdle Mean\t0.8681863165984989\n",
      "Fwd IAT Total\t Fwd IAT Std\t0.9001890703196793\n",
      " Active Min\t Active Max\t0.8700357483113463\n",
      " Bwd Packet Length Std\t Max Packet Length\t0.8743852196612353\n",
      " Bwd Packet Length Std\t Packet Length Variance\t0.8747112442725703\n",
      " Bwd Packet Length Std\tBwd Packet Length Max\t0.9927379779656206\n",
      "Bwd Packet Length Max\t Max Packet Length\t0.8780703992929346\n",
      "Bwd Packet Length Max\t Avg Bwd Segment Size\t0.9614585098994988\n",
      "Bwd Packet Length Max\t Bwd Packet Length Mean\t0.9614585098995007\n",
      " Min Packet Length\t Protocol\t0.8945504845526961\n",
      " Fwd IAT Std\t Flow Duration\t0.8959833787594332\n",
      " Fwd IAT Std\tIdle Mean\t0.9131366615620925\n",
      " Bwd IAT Min\t Fwd IAT Min\t0.9061238153562668\n",
      " Subflow Bwd Bytes\t Fwd Header Length\t0.9105522418166841\n",
      " Subflow Bwd Bytes\t Fwd Header Length.1\t0.9105522418166841\n",
      " Subflow Bwd Bytes\t Total Fwd Packets\t0.9233735033932794\n",
      " Subflow Bwd Bytes\tSubflow Fwd Packets\t0.9233735033932794\n",
      " Subflow Bwd Bytes\t Subflow Bwd Packets\t0.9598623802900261\n",
      " Fwd Header Length.1\t Total Length of Bwd Packets\t0.9105522418166841\n",
      " Fwd Header Length.1\t Total Backward Packets\t0.9388149511764194\n",
      " Fwd Header Length.1\t Bwd Header Length\t0.9476566524892036\n",
      " Fwd Header Length.1\tSubflow Fwd Packets\t0.9670865028263532\n",
      " Fwd IAT Max\t Flow Duration\t0.9182729013320113\n",
      " Fwd IAT Max\tFwd IAT Total\t0.921843548782001\n",
      " Fwd IAT Max\t Flow IAT Std\t0.9693377810595741\n",
      " Fwd IAT Max\t Fwd IAT Std\t0.9805340021233362\n",
      " Fwd IAT Max\t Flow IAT Max\t0.9952804471737713\n",
      " Fwd Packet Length Mean\t Fwd Packet Length Std\t0.9195544060756378\n",
      " Fwd Packet Length Mean\t Fwd Packet Length Max\t0.9409458163201176\n",
      " Total Fwd Packets\t Bwd Header Length\t0.9214276541793351\n",
      " Total Fwd Packets\t Total Length of Bwd Packets\t0.9233735033932794\n",
      " Total Fwd Packets\t Fwd Header Length.1\t0.9670865028263532\n",
      " Bwd Header Length\tSubflow Fwd Packets\t0.9214276541793351\n",
      " Bwd Header Length\t Total Length of Bwd Packets\t0.9306485802248075\n",
      " Bwd Header Length\t Subflow Bwd Bytes\t0.9306485802248075\n",
      " Bwd Header Length\t Fwd Header Length\t0.9476566524892036\n",
      " Total Length of Bwd Packets\tSubflow Fwd Packets\t0.9233735033932794\n",
      " Total Length of Bwd Packets\t Subflow Bwd Packets\t0.9598623802900261\n",
      " Active Max\tActive Mean\t0.9346259464491706\n",
      " Subflow Bwd Packets\t Fwd Header Length.1\t0.9388149511764194\n",
      " Subflow Bwd Packets\tSubflow Fwd Packets\t0.9500801824300728\n",
      " Subflow Bwd Packets\t Total Fwd Packets\t0.9500801824300728\n",
      " Subflow Bwd Packets\t Bwd Header Length\t0.9760160374517459\n",
      " Total Backward Packets\tSubflow Fwd Packets\t0.9500801824300728\n",
      " Total Backward Packets\t Total Fwd Packets\t0.9500801824300728\n",
      " Total Backward Packets\t Subflow Bwd Bytes\t0.9598623802900261\n",
      " Total Backward Packets\t Total Length of Bwd Packets\t0.9598623802900261\n",
      " Total Backward Packets\t Bwd Header Length\t0.9760160374517459\n",
      "Subflow Fwd Packets\t Fwd Header Length\t0.9670865028263532\n",
      "Active Mean\t Active Min\t0.9833453464691118\n",
      " Flow Packets/s\tFwd Packets/s\t0.9855128160535594\n"
     ]
    }
   ],
   "source": [
    "c = dados_DDos_without_neg.corr().abs()\n",
    "s = c.unstack()\n",
    "print(s[' Label'])\n",
    "so = s.sort_values(kind=\"quicksort\")\n",
    "print(so[-61:-1])\n",
    "\n",
    "filtered_correlation = {}\n",
    "for item in so.iteritems(): # retorna os valores das correlações entre 0.7 e 1 sem repetições\n",
    "    a = item[0][0]\n",
    "    b = item[0][1]\n",
    "    if (item[1] >= 0.7 and  item[1] < 1):\n",
    "        if not(b in filtered_correlation and a in filtered_correlation[b]):\n",
    "            if a not in filtered_correlation:\n",
    "                filtered_correlation[a] = {}\n",
    "            filtered_correlation[a][b]=item[1]\n",
    "\n",
    "for i in filtered_correlation: # imprime os valores de forma bonitinha\n",
    "    for j in filtered_correlation[i]:\n",
    "        print(i + '\\t' + j + '\\t' + str(filtered_correlation[i][j]))"
   ]
  },
  {
   "cell_type": "markdown",
   "metadata": {},
   "source": [
    "### For the variables more than 70% correlated, remove one of variables of each correlation"
   ]
  },
  {
   "cell_type": "code",
   "execution_count": 34,
   "metadata": {},
   "outputs": [],
   "source": [
    "############################--- Remover as variáveis + de 70% correlacionadas ----##################################\n",
    "for i in dados_DDos_without_neg,dados_PortScan_without_neg,dados_Bot_without_neg:\n",
    "    i.drop([' Total Backward Packets'], axis=1,inplace=True)\n",
    "    i.drop([' Total Length of Bwd Packets'], axis=1,inplace=True)\n",
    "    i.drop([' Bwd Packet Length Std'], axis=1,inplace=True)\n",
    "    i.drop([' Fwd Packet Length Mean'], axis=1,inplace=True)\n",
    "    i.drop([' Flow IAT Std'], axis=1,inplace=True)\n",
    "    i.drop(['Fwd IAT Total'], axis=1,inplace=True)\n",
    "    i.drop([' Packet Length Std'], axis=1,inplace=True)\n",
    "    i.drop([' Packet Length Variance'], axis=1,inplace=True)\n",
    "    i.drop([' Fwd Header Length.1'], axis=1,inplace=True)\n",
    "    i.drop(['Subflow Fwd Packets'], axis=1,inplace=True)\n",
    "    i.drop([' Subflow Bwd Packets'], axis=1,inplace=True)\n",
    "    i.drop([' Subflow Bwd Bytes'], axis=1,inplace=True)\n",
    "    i.drop([' Active Max'], axis=1,inplace=True)\n",
    "    i.drop([' Active Min'], axis=1,inplace=True)\n",
    "    i.drop(['Idle Mean'], axis=1,inplace=True)\n",
    "    i.drop([' Idle Min'], axis=1,inplace=True)\n",
    "    i.drop([' Idle Max'], axis=1,inplace=True)\n",
    "    i.drop([' Bwd IAT Mean'], axis=1,inplace=True)\n",
    "    i.drop([' Fwd IAT Mean'], axis=1,inplace=True)\n",
    "    i.drop([' Destination Port'], axis=1,inplace=True)\n",
    "    i.drop(['Bwd Packet Length Max'], axis=1,inplace=True)\n",
    "    i.drop([' Avg Fwd Segment Size'], axis=1,inplace=True)\n",
    "    i.drop([' Bwd Packet Length Min'], axis=1,inplace=True)\n",
    "    i.drop([' Bwd Header Length'], axis=1,inplace=True)\n",
    "    i.drop([' Max Packet Length'], axis=1,inplace=True)\n",
    "    i.drop([' PSH Flag Count'], axis=1,inplace=True)\n",
    "    i.drop([' Bwd IAT Std'], axis=1,inplace=True)\n",
    "    i.drop([' Bwd IAT Max'], axis=1,inplace=True)\n",
    "    i.drop([' Fwd Packet Length Max'], axis=1,inplace=True)\n",
    "    i.drop([' Fwd IAT Std'], axis=1,inplace=True)\n",
    "    i.drop([' Min Packet Length'], axis=1,inplace=True)\n",
    "    i.drop([' Flow Duration'], axis=1,inplace=True)\n",
    "    i.drop([' Flow IAT Min'], axis=1,inplace=True) \n",
    "    i.drop([' Flow IAT Max'], axis=1,inplace=True)\n",
    "    i.drop([' Bwd IAT Min'], axis=1,inplace=True)\n",
    "    i.drop(['Fwd Packets/s'], axis=1,inplace=True)\n",
    "    i.drop([' ECE Flag Count'], axis=1,inplace=True)\n",
    "    i.drop([' Subflow Fwd Bytes'], axis=1,inplace=True)\n",
    "    i.drop([' SYN Flag Count'], axis=1,inplace=True)\n",
    "    i.drop([' Average Packet Size'], axis=1,inplace=True)\n",
    "    i.drop([' Packet Length Mean'], axis=1,inplace=True)\n",
    "    i.drop([' Bwd Packet Length Mean'], axis=1,inplace=True)\n",
    "    i.drop([' Fwd Packet Length Std'], axis=1,inplace=True)\n",
    "\n",
    "dados_DDos_without_neg.drop([' act_data_pkt_fwd'] , axis=1,inplace=True)\n",
    "dados_DDos_without_neg.drop([' Fwd IAT Max'] , axis=1,inplace=True)\n",
    "dados_DDos_without_neg.drop([' Total Fwd Packets'] , axis=1,inplace=True)\n",
    "dados_PortScan_without_neg.drop([' act_data_pkt_fwd'] , axis=1,inplace=True)\n",
    "dados_PortScan_without_neg.drop([' Flow IAT Mean'] , axis=1,inplace=True)\n",
    "dados_PortScan_without_neg.drop([' Fwd Header Length'] , axis=1,inplace=True)\n",
    "dados_PortScan_without_neg.drop([' Fwd Packet Length Min'] , axis=1,inplace=True)\n",
    "dados_Bot_without_neg.drop([' Flow IAT Mean'] , axis =1,inplace=True)\n",
    "dados_Bot_without_neg.drop([' Total Fwd Packets'] , axis=1,inplace=True)"
   ]
  },
  {
   "cell_type": "markdown",
   "metadata": {},
   "source": [
    "### Log transformation"
   ]
  },
  {
   "cell_type": "code",
   "execution_count": 36,
   "metadata": {},
   "outputs": [],
   "source": [
    "for i in [dados_DDos_without_neg,dados_PortScan_without_neg,dados_Bot_without_neg]:\n",
    "    columns = i.columns\n",
    "    for j in columns:\n",
    "        max=i[j].max()\n",
    "        if(max>10000):\n",
    "            #print(j)\n",
    "            #print(max)\n",
    "            i[j]=np.log(1 + i[j])\n",
    "\n",
    "dados_DDos_without_neg = dados_DDos_without_neg.replace([np.inf, -np.inf], np.nan).dropna(axis=0)\n",
    "dados_PortScan_without_neg = dados_PortScan_without_neg.replace([np.inf, -np.inf], np.nan).dropna(axis=0)\n",
    "dados_Bot_without_neg = dados_Bot_without_neg.replace([np.inf, -np.inf], np.nan).dropna(axis=0)"
   ]
  },
  {
   "cell_type": "markdown",
   "metadata": {},
   "source": [
    "### Normalisation"
   ]
  },
  {
   "cell_type": "code",
   "execution_count": 37,
   "metadata": {},
   "outputs": [],
   "source": [
    "#[0,1]\n",
    "features_normalized_DDoS = preprocessing.normalize(dados_DDos_without_neg,norm='max',axis=0)\n",
    "features_normalized_DDoS = pd.DataFrame(features_normalized_DDoS, columns=dados_DDos_without_neg.columns)\n",
    "#features_normalized_DDoS['Total Length of Fwd Packets'].hist()\n",
    "#plt.savefig('After_Normalisation_Fwd_Header_Length.png')\n",
    "\n",
    "features_normalized_PortScan = preprocessing.normalize(dados_PortScan_without_neg,norm='max',axis=0)\n",
    "features_normalized_PortScan = pd.DataFrame(features_normalized_PortScan, columns=dados_PortScan_without_neg.columns)\n",
    "\n",
    "features_normalized_bot = preprocessing.normalize(dados_Bot_without_neg,norm='max',axis=0)\n",
    "features_normalized_bot = pd.DataFrame(features_normalized_bot, columns=dados_Bot_without_neg.columns)"
   ]
  },
  {
   "cell_type": "markdown",
   "metadata": {},
   "source": [
    "### Remove duplicated rows"
   ]
  },
  {
   "cell_type": "code",
   "execution_count": 38,
   "metadata": {},
   "outputs": [
    {
     "name": "stdout",
     "output_type": "stream",
     "text": [
      " Source Port                   5551\n",
      " Protocol                      5551\n",
      "Total Length of Fwd Packets    5551\n",
      " Fwd Packet Length Min         5551\n",
      "Flow Bytes/s                   5551\n",
      " Flow Packets/s                5551\n",
      " Flow IAT Mean                 5551\n",
      " Fwd IAT Min                   5551\n",
      "Bwd IAT Total                  5551\n",
      "Fwd PSH Flags                  5551\n",
      " Fwd Header Length             5551\n",
      " Bwd Packets/s                 5551\n",
      "FIN Flag Count                 5551\n",
      " RST Flag Count                5551\n",
      " ACK Flag Count                5551\n",
      " URG Flag Count                5551\n",
      " Down/Up Ratio                 5551\n",
      " Avg Bwd Segment Size          5551\n",
      " min_seg_size_forward          5551\n",
      "Active Mean                    5551\n",
      " Active Std                    5551\n",
      " Idle Std                      5551\n",
      " Label                         5551\n",
      "dtype: int64\n",
      " Source Port                   88074\n",
      " Protocol                      88074\n",
      " Total Fwd Packets             88074\n",
      "Total Length of Fwd Packets    88074\n",
      "Flow Bytes/s                   88074\n",
      " Flow Packets/s                88074\n",
      " Fwd IAT Max                   88074\n",
      " Fwd IAT Min                   88074\n",
      "Bwd IAT Total                  88074\n",
      "Fwd PSH Flags                  88074\n",
      " Bwd Packets/s                 88074\n",
      "FIN Flag Count                 88074\n",
      " RST Flag Count                88074\n",
      " ACK Flag Count                88074\n",
      " URG Flag Count                88074\n",
      " Down/Up Ratio                 88074\n",
      " Avg Bwd Segment Size          88074\n",
      " min_seg_size_forward          88074\n",
      "Active Mean                    88074\n",
      " Active Std                    88074\n",
      " Idle Std                      88074\n",
      " Label                         88074\n",
      "dtype: int64\n",
      " Source Port                   21331\n",
      " Protocol                      21331\n",
      "Total Length of Fwd Packets    21331\n",
      " Fwd Packet Length Min         21331\n",
      "Flow Bytes/s                   21331\n",
      " Flow Packets/s                21331\n",
      " Fwd IAT Max                   21331\n",
      " Fwd IAT Min                   21331\n",
      "Bwd IAT Total                  21331\n",
      "Fwd PSH Flags                  21331\n",
      " Fwd Header Length             21331\n",
      " Bwd Packets/s                 21331\n",
      "FIN Flag Count                 21331\n",
      " RST Flag Count                21331\n",
      " ACK Flag Count                21331\n",
      " URG Flag Count                21331\n",
      " Down/Up Ratio                 21331\n",
      " Avg Bwd Segment Size          21331\n",
      " act_data_pkt_fwd              21331\n",
      " min_seg_size_forward          21331\n",
      "Active Mean                    21331\n",
      " Active Std                    21331\n",
      " Idle Std                      21331\n",
      " Label                         21331\n",
      "dtype: int64\n"
     ]
    }
   ],
   "source": [
    "# Duplicated Rows in original data\n",
    "duplicateRowsDF = features_normalized_DDoS[features_normalized_DDoS.duplicated()]\n",
    "#print(duplicateRowsDF.count())\n",
    "features_normalized_DDoS=features_normalized_DDoS.drop_duplicates()\n",
    "\n",
    "duplicateRowsDF = features_normalized_PortScan[features_normalized_PortScan.duplicated()]\n",
    "#print(duplicateRowsDF.count())\n",
    "features_normalized_PortScan=features_normalized_PortScan.drop_duplicates()\n",
    "\n",
    "duplicateRowsDF = features_normalized_bot[features_normalized_bot.duplicated()]\n",
    "#print(duplicateRowsDF.count())\n",
    "features_normalized_bot=features_normalized_bot.drop_duplicates()"
   ]
  },
  {
   "cell_type": "markdown",
   "metadata": {},
   "source": [
    "### Shuffle"
   ]
  },
  {
   "cell_type": "code",
   "execution_count": 102,
   "metadata": {},
   "outputs": [],
   "source": [
    "features_normalized_DDoS = shuffle(features_normalized_DDoS)\n",
    "features_normalized_PortScan = shuffle(features_normalized_PortScan)\n",
    "features_normalized_bot = shuffle(features_normalized_bot)"
   ]
  },
  {
   "cell_type": "markdown",
   "metadata": {},
   "source": [
    "### Class seperation"
   ]
  },
  {
   "cell_type": "code",
   "execution_count": 103,
   "metadata": {},
   "outputs": [],
   "source": [
    "DDoS_benign = features_normalized_DDoS[' Label'] == 0\n",
    "DDoS_attack = features_normalized_DDoS[' Label'] == 1\n",
    "\n",
    "PortScan_benign = features_normalized_PortScan[' Label'] == 0\n",
    "PortScan_attack = features_normalized_PortScan[' Label'] == 1\n",
    "\n",
    "Botnet_benign = features_normalized_bot[' Label'] == 0\n",
    "Botnet_attack = features_normalized_bot[' Label'] == 1\n"
   ]
  },
  {
   "cell_type": "markdown",
   "metadata": {},
   "source": [
    "### Data for the GAN models"
   ]
  },
  {
   "cell_type": "code",
   "execution_count": 105,
   "metadata": {},
   "outputs": [],
   "source": [
    "features_normalized_bot[Botnet_attack].to_csv(r'GAN_generation\\Bot_Attack_Data.csv', index = False)"
   ]
  },
  {
   "cell_type": "markdown",
   "metadata": {},
   "source": [
    "### Train-test split"
   ]
  },
  {
   "cell_type": "code",
   "execution_count": 133,
   "metadata": {},
   "outputs": [],
   "source": [
    "# 50-50 train-test division \n",
    "\n",
    "DDoS_Benign_train, DDoS_Benign_test = np.array_split(features_normalized_DDoS[DDoS_benign], 2)\n",
    "DDoS_Attack_train, DDoS_attack_test = np.array_split(features_normalized_DDoS[DDoS_attack], 2)\n",
    "\n",
    "PortScan_Benign_train, PortScan_Benign_test = np.array_split(features_normalized_PortScan[PortScan_benign], 2)\n",
    "PortScan_Attack_train, PortScan_Attack_test = np.array_split(features_normalized_PortScan[PortScan_attack], 2)\n",
    "\n",
    "Bot_Benign_train, Bot_Bening_test = np.array_split(features_normalized_bot[Botnet_benign], 2)\n",
    "Bot_Attack_train, Bot_Attack_test = np.array_split(features_normalized_bot[Botnet_attack], 2)"
   ]
  },
  {
   "cell_type": "code",
   "execution_count": 134,
   "metadata": {},
   "outputs": [],
   "source": [
    "# Join all train and test data and shuffle\n",
    "\n",
    "DDoS_train = pd.concat([DDoS_Benign_train, DDoS_Attack_train])\n",
    "DDoS_test = pd.concat([DDoS_Benign_test, DDoS_attack_test])\n",
    "DDoS_train = shuffle(DDoS_train)\n",
    "DDoS_test = shuffle(DDoS_test)\n",
    "\n",
    "PortScan_train = pd.concat([PortScan_Benign_train, PortScan_Attack_train])\n",
    "PortScan_test = pd.concat([PortScan_Benign_test, PortScan_Attack_test])\n",
    "PortScan_train = shuffle(PortScan_train)\n",
    "PortScan_test = shuffle(PortScan_test)\n",
    "\n",
    "Bot_train = pd.concat([Bot_Benign_train, Bot_Attack_train])\n",
    "Bot_test = pd.concat([Bot_Bening_test, Bot_Attack_test])\n",
    "Bot_train = shuffle(Bot_train)\n",
    "Bot_test = shuffle(Bot_test)"
   ]
  },
  {
   "cell_type": "code",
   "execution_count": 137,
   "metadata": {},
   "outputs": [],
   "source": [
    "#Save train and test data in csv files\n",
    "\n",
    "DDoS_train.to_csv(r'Train_test_data/DDoS_train.csv', index = False)\n",
    "DDoS_test.to_csv(r'Train_test_data/DDoS_test.csv', index = False)\n",
    "\n",
    "PortScan_train.to_csv(r'Train_test_data/PortScan_train.csv', index = False)\n",
    "PortScan_test.to_csv(r'Train_test_data/PortScan_test.csv', index = False)\n",
    "\n",
    "Bot_train.to_csv(r'Train_test_data/Bot_train.csv', index = False)\n",
    "Bot_test.to_csv(r'Train_test_data/Bot_test.csv', index = False)"
   ]
  },
  {
   "cell_type": "markdown",
   "metadata": {},
   "source": [
    "### See the amount of data needed for GAN generation"
   ]
  },
  {
   "cell_type": "code",
   "execution_count": 140,
   "metadata": {},
   "outputs": [
    {
     "name": "stdout",
     "output_type": "stream",
     "text": [
      "Counter({0.0: 83997, 1.0: 681})\n"
     ]
    }
   ],
   "source": [
    "counter = Counter(Bot_train[' Label'])\n",
    "print(counter)"
   ]
  }
 ],
 "metadata": {
  "kernelspec": {
   "display_name": "Python 3",
   "language": "python",
   "name": "python3"
  },
  "language_info": {
   "codemirror_mode": {
    "name": "ipython",
    "version": 3
   },
   "file_extension": ".py",
   "mimetype": "text/x-python",
   "name": "python",
   "nbconvert_exporter": "python",
   "pygments_lexer": "ipython3",
   "version": "3.6.5"
  }
 },
 "nbformat": 4,
 "nbformat_minor": 2
}

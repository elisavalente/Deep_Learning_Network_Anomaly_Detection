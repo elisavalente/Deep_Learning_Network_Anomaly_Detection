{
 "cells": [
  {
   "cell_type": "code",
   "execution_count": 28,
   "metadata": {},
   "outputs": [],
   "source": [
    "from sklearn import impute, preprocessing, metrics\n",
    "from sklearn.preprocessing import LabelEncoder\n",
    "from sklearn.utils import shuffle\n",
    "import pandas as pd\n",
    "import numpy as np\n",
    "import sklearn as skl\n",
    "from collections import Counter"
   ]
  },
  {
   "cell_type": "markdown",
   "metadata": {},
   "source": [
    "### Load Datasets "
   ]
  },
  {
   "cell_type": "code",
   "execution_count": 4,
   "metadata": {},
   "outputs": [
    {
     "name": "stderr",
     "output_type": "stream",
     "text": [
      "C:\\Users\\Elisa Valente\\AppData\\Local\\Programs\\Python\\Python36\\lib\\site-packages\\IPython\\core\\interactiveshell.py:3044: DtypeWarning: Columns (0,1,3,6,84) have mixed types.Specify dtype option on import or set low_memory=False.\n",
      "  interactivity=interactivity, compiler=compiler, result=result)\n"
     ]
    }
   ],
   "source": [
    "dados_WebAttacks = pd.read_csv('CICIDS2017_Datasets\\Thursday-WorkingHours-Morning-WebAttacks.pcap_ISCX.csv', sep=';' , encoding='latin-1')\n",
    "dados_BruteForce = pd.read_csv('CICIDS2017_Datasets\\Tuesday-WorkingHours.pcap_ISCX.csv', sep=',')\n",
    "dados_Dos = pd.read_csv('CICIDS2017_Datasets\\Wednesday-workingHours.pcap_ISCX.csv', sep=',')"
   ]
  },
  {
   "cell_type": "markdown",
   "metadata": {},
   "source": [
    "### Delete rows with NaN Values"
   ]
  },
  {
   "cell_type": "code",
   "execution_count": 6,
   "metadata": {},
   "outputs": [],
   "source": [
    "for i in [dados_WebAttacks,dados_BruteForce,dados_Dos]:\n",
    "    i.dropna(how='any', inplace=True)"
   ]
  },
  {
   "cell_type": "code",
   "execution_count": 7,
   "metadata": {},
   "outputs": [],
   "source": [
    "for df in dados_WebAttacks,dados_BruteForce,dados_Dos:\n",
    "\n",
    "    df.drop(['Flow ID'],axis=1,inplace=True)\n",
    "    df.drop([' Timestamp'],axis=1,inplace=True)\n",
    "    df.drop([' Source IP'], axis=1,inplace=True)\n",
    "    df.drop([' Destination IP'], axis=1,inplace=True)\n",
    "    df[' Bwd Packet Length Std']=df[' Bwd Packet Length Std'].astype(np.float)\n",
    "    df['Flow Bytes/s']=df['Flow Bytes/s'].astype(np.float)\n",
    "    df[' Flow Packets/s']=df[' Flow Packets/s'].astype(np.float)\n",
    "    df[' Flow IAT Std']=df[' Flow IAT Std'].astype(np.float)\n",
    "    df['Fwd Packets/s']=df['Fwd Packets/s'].astype(np.float)\n",
    "    df[' Bwd Packets/s']=df[' Bwd Packets/s'].astype(np.float)\n",
    "    df[' Packet Length Mean']=df[' Packet Length Mean'].astype(np.float)\n",
    "    df[' Packet Length Std']=df[' Packet Length Std'].astype(np.float)\n",
    "    df[' Packet Length Variance']=df[' Packet Length Variance'].astype(np.float)\n",
    "    df[' Average Packet Size']=df[' Average Packet Size'].astype(np.float)\n",
    "    df[' Avg Fwd Segment Size']=df[' Avg Fwd Segment Size'].astype(np.float)\n",
    "    df.replace([np.inf, -np.inf], np.nan).dropna(axis=0, inplace=True)"
   ]
  },
  {
   "cell_type": "markdown",
   "metadata": {},
   "source": [
    "### Multi Column Label Encoder"
   ]
  },
  {
   "cell_type": "code",
   "execution_count": 8,
   "metadata": {},
   "outputs": [],
   "source": [
    "class MultiColumnLabelEncoder:\n",
    "    def __init__(self,columns = None):\n",
    "        self.columns = columns # array of column names to encode\n",
    "\n",
    "    def fit(self,X,y=None):\n",
    "        return self # not relevant here\n",
    "\n",
    "    def transform(self,X):\n",
    "        output = X.copy()\n",
    "        if self.columns is not None:\n",
    "            for col in self.columns:\n",
    "                output[col] = LabelEncoder().fit_transform(output[col])\n",
    "        else:\n",
    "            for colname,col in output.iteritems():\n",
    "                output[colname] = LabelEncoder().fit_transform(col)\n",
    "        return output\n",
    "\n",
    "    def fit_transform(self,X,y=None):\n",
    "        return self.fit(X,y).transform(X)"
   ]
  },
  {
   "cell_type": "code",
   "execution_count": 9,
   "metadata": {},
   "outputs": [],
   "source": [
    "for i in [dados_WebAttacks,dados_BruteForce,dados_Dos]:\n",
    "    label_encoder = preprocessing.LabelEncoder()\n",
    "    input_classes = i[' Label'].unique()\n",
    "    #print(input_classes)\n",
    "    label_encoder.fit(input_classes)\n",
    "    i[' Label'] = label_encoder.transform(i[' Label'])\n",
    "    #print(i[' Label'].unique())"
   ]
  },
  {
   "cell_type": "markdown",
   "metadata": {},
   "source": [
    "### Negative values check"
   ]
  },
  {
   "cell_type": "code",
   "execution_count": 10,
   "metadata": {},
   "outputs": [],
   "source": [
    "for df in [dados_WebAttacks,dados_BruteForce,dados_Dos]:\n",
    "    columns = df.columns\n",
    "    #print('----------------------------')\n",
    "    for i in columns:\n",
    "        if (df[i] < 0).any():\n",
    "            number_of_negatives = np.sum((df[i] < 0).values.ravel())\n",
    "            #print(i + ' : '+ str(number_of_negatives))"
   ]
  },
  {
   "cell_type": "markdown",
   "metadata": {},
   "source": [
    "### Drop single unique value features and the two features with high number of negatives"
   ]
  },
  {
   "cell_type": "code",
   "execution_count": 11,
   "metadata": {},
   "outputs": [],
   "source": [
    "for i in dados_WebAttacks,dados_BruteForce,dados_Dos:\n",
    "    i.drop([' Bwd PSH Flags'], axis=1,inplace=True)\n",
    "    i.drop([' Fwd URG Flags'], axis=1,inplace=True)\n",
    "    i.drop([' Bwd URG Flags'], axis=1,inplace=True)\n",
    "    i.drop([' CWE Flag Count'], axis=1,inplace=True)\n",
    "    i.drop(['Fwd Avg Bytes/Bulk'], axis=1,inplace=True)\n",
    "    i.drop([' Fwd Avg Packets/Bulk'], axis=1,inplace=True)\n",
    "    i.drop([' Fwd Avg Bulk Rate'], axis=1,inplace=True)\n",
    "    i.drop([' Bwd Avg Bytes/Bulk'], axis=1,inplace=True)\n",
    "    i.drop([' Bwd Avg Packets/Bulk'], axis=1,inplace=True)\n",
    "    i.drop(['Bwd Avg Bulk Rate'], axis=1,inplace=True)\n",
    "    i.drop(['Init_Win_bytes_forward'], axis=1,inplace=True) #muitos valores negativos\n",
    "    i.drop([' Init_Win_bytes_backward'], axis=1,inplace=True) #muitos valores negativos\n",
    "\n",
    "# Fix the webattack dataset  misspelled Fwd Header Length.1 feature   \n",
    "dados_WebAttacks.rename(columns={' Fwd Header Length_1':' Fwd Header Length.1'}, inplace=True)\n",
    "\n",
    "dados_WebAttacks = dados_WebAttacks.replace([np.inf, -np.inf], np.nan).dropna(axis=0)\n",
    "dados_BruteForce = dados_BruteForce.replace([np.inf, -np.inf], np.nan).dropna(axis=0)\n",
    "dados_Dos = dados_Dos.replace([np.inf, -np.inf], np.nan).dropna(axis=0)"
   ]
  },
  {
   "cell_type": "markdown",
   "metadata": {},
   "source": [
    "### Remove all rows with negative values"
   ]
  },
  {
   "cell_type": "code",
   "execution_count": 13,
   "metadata": {},
   "outputs": [],
   "source": [
    "############## Convert negative values to NaN \n",
    "dados_WebAttacks_without_neg = dados_WebAttacks[dados_WebAttacks >= 0]\n",
    "dados_BruteForce_without_neg = dados_BruteForce[dados_BruteForce >= 0]\n",
    "dados_Dos_without_neg = dados_Dos[dados_Dos >= 0]\n",
    "\n",
    "############# Remove the rows with NaN \n",
    "dados_WebAttacks_without_neg = dados_WebAttacks_without_neg.replace([np.inf, -np.inf], np.nan).dropna(axis=0)\n",
    "dados_BruteForce_without_neg = dados_BruteForce_without_neg.replace([np.inf, -np.inf], np.nan).dropna(axis=0)\n",
    "dados_Dos_without_neg = dados_Dos_without_neg.replace([np.inf, -np.inf], np.nan).dropna(axis=0)"
   ]
  },
  {
   "cell_type": "markdown",
   "metadata": {},
   "source": [
    "### Check the variables correlation"
   ]
  },
  {
   "cell_type": "code",
   "execution_count": 22,
   "metadata": {},
   "outputs": [
    {
     "name": "stdout",
     "output_type": "stream",
     "text": [
      " Packet Length Std\t Flow Duration\t0.7018738494011991\n",
      " Packet Length Std\t Flow IAT Max\t0.7849143160133484\n",
      " Packet Length Std\tIdle Mean\t0.789081692498831\n",
      " Packet Length Std\t Fwd IAT Std\t0.8034559522511796\n",
      " Packet Length Std\t Average Packet Size\t0.9503995357200457\n",
      " Packet Length Std\t Packet Length Mean\t0.9548495525334166\n",
      " Packet Length Std\t Bwd Packet Length Mean\t0.9563682125323634\n",
      " Packet Length Std\t Bwd Packet Length Std\t0.9721544656754217\n",
      " Flow Duration\tBwd Packet Length Max\t0.7019335888975493\n",
      " Flow Duration\t Idle Max\t0.8855527587104843\n",
      " Flow Duration\t Fwd IAT Max\t0.887391972876267\n",
      " Fwd IAT Std\t Packet Length Variance\t0.7054831931855908\n",
      " Fwd IAT Std\t Average Packet Size\t0.7684565719524037\n",
      " Fwd IAT Std\t Flow Duration\t0.8482475202291846\n",
      " Fwd IAT Std\tFwd IAT Total\t0.8496907682819036\n",
      " Fwd IAT Std\t Flow IAT Std\t0.9074321994103173\n",
      " Fwd IAT Std\t Idle Min\t0.9458794147490706\n",
      " Fwd IAT Std\t Idle Max\t0.957926439009828\n",
      " Fwd IAT Std\t Fwd IAT Max\t0.958784456908464\n",
      " Bwd Packet Length Std\t Flow IAT Std\t0.7071669226664287\n",
      " Bwd Packet Length Std\t Fwd IAT Max\t0.7591407330211651\n",
      " Bwd Packet Length Std\t Flow IAT Max\t0.759895038941691\n",
      " Bwd Packet Length Std\t Idle Max\t0.7606711783270403\n",
      " Bwd Packet Length Std\t Fwd IAT Std\t0.7720400526843888\n",
      " Bwd Packet Length Std\t Packet Length Variance\t0.9502367911937362\n",
      " Bwd Packet Length Std\t Avg Bwd Segment Size\t0.9541420418007481\n",
      " Bwd Packet Length Std\t Max Packet Length\t0.9700161940627101\n",
      " Bwd Packet Length Std\tBwd Packet Length Max\t0.9881416196945916\n",
      " Fwd IAT Mean\t Idle Min\t0.7078050244567202\n",
      " Fwd IAT Mean\t Fwd IAT Min\t0.7633197364797865\n",
      " Fwd IAT Mean\t Flow IAT Mean\t0.9042022710206408\n",
      " Bwd IAT Max\t Bwd IAT Mean\t0.7080962602898601\n",
      " Bwd IAT Max\tBwd IAT Total\t0.8265328845254558\n",
      " Max Packet Length\tFwd IAT Total\t0.7124008654092339\n",
      " Max Packet Length\t Flow Duration\t0.7149308837945115\n",
      " Max Packet Length\t Fwd IAT Max\t0.7849106207871892\n",
      " Max Packet Length\t Fwd IAT Std\t0.7979906029853143\n",
      " Max Packet Length\t Average Packet Size\t0.9209895107499384\n",
      " Max Packet Length\t Packet Length Mean\t0.9280129702699093\n",
      " Max Packet Length\t Avg Bwd Segment Size\t0.9402795549388404\n",
      " Max Packet Length\t Bwd Packet Length Mean\t0.9402795549388453\n",
      " Max Packet Length\t Packet Length Std\t0.9892154292451139\n",
      "Idle Mean\t Fwd IAT Mean\t0.7149252927218772\n",
      "Idle Mean\t Average Packet Size\t0.750616420482677\n",
      "Idle Mean\t Packet Length Mean\t0.7609080841217986\n",
      "Idle Mean\t Bwd Packet Length Std\t0.7638884061863951\n",
      "Idle Mean\tBwd Packet Length Max\t0.7809050143812271\n",
      "Idle Mean\t Max Packet Length\t0.7896255865137323\n",
      "Idle Mean\t Avg Bwd Segment Size\t0.7969075428304477\n",
      "Idle Mean\t Flow Duration\t0.8754583659958923\n",
      "Idle Mean\t Fwd IAT Std\t0.9554813065318599\n",
      "Idle Mean\t Fwd IAT Max\t0.9922991524143345\n",
      "Idle Mean\t Idle Max\t0.995604712952279\n",
      " Idle Max\t Fwd IAT Mean\t0.7166261688628822\n",
      " Idle Max\t Average Packet Size\t0.7467994727210179\n",
      " Idle Max\tBwd Packet Length Max\t0.7775770628987468\n",
      " Idle Max\t Packet Length Std\t0.7856317421558768\n",
      " Idle Max\t Max Packet Length\t0.7864720150786927\n",
      " Idle Max\t Bwd Packet Length Mean\t0.7931224194991167\n",
      " Idle Max\t Flow IAT Std\t0.9615543802335924\n",
      " Idle Max\t Fwd IAT Max\t0.9966331438847051\n",
      " Flow IAT Std\tBwd Packet Length Max\t0.7184165139290387\n",
      " Flow IAT Std\t Max Packet Length\t0.7270859871536967\n",
      " Flow IAT Std\t Avg Bwd Segment Size\t0.7283641766670365\n",
      " Flow IAT Std\t Packet Length Std\t0.7290320122561212\n",
      " Flow IAT Std\t Fwd IAT Mean\t0.819703246881197\n",
      " Flow IAT Std\t Flow Duration\t0.8606486895114582\n",
      " Flow IAT Std\t Idle Min\t0.9469870836330345\n",
      " Flow IAT Std\tIdle Mean\t0.9577069481096289\n",
      " Flow IAT Std\t Fwd IAT Max\t0.9647502169521726\n",
      " Flow IAT Std\t Flow IAT Max\t0.9652924802452368\n",
      " Bwd IAT Mean\t Fwd IAT Mean\t0.7186163657995044\n",
      " Bwd IAT Mean\t Bwd IAT Min\t0.8481853362833086\n",
      " Flow IAT Max\t Fwd IAT Mean\t0.7245180880769488\n",
      " Flow IAT Max\tBwd Packet Length Max\t0.7767005707369227\n",
      " Flow IAT Max\t Max Packet Length\t0.7857165005622513\n",
      " Flow IAT Max\t Avg Bwd Segment Size\t0.7924779919433729\n",
      " Flow IAT Max\t Flow Duration\t0.8875468108246197\n",
      " Flow IAT Max\tFwd IAT Total\t0.8881607712900932\n",
      " Flow IAT Max\t Fwd IAT Std\t0.9583067000248319\n",
      " Flow IAT Max\tIdle Mean\t0.9923523903721423\n",
      " Flow IAT Max\t Idle Max\t0.9967175644356076\n",
      " Fwd IAT Max\t Fwd IAT Mean\t0.7250467096136914\n",
      " Fwd IAT Max\t Packet Length Std\t0.7840684861910407\n",
      " Fwd IAT Max\t Avg Bwd Segment Size\t0.7915261190086672\n",
      " Fwd IAT Max\t Bwd Packet Length Mean\t0.7915261190086988\n",
      " Fwd IAT Max\t Flow IAT Max\t0.9994710045919862\n",
      " Bwd Packet Length Mean\t Flow IAT Std\t0.7283641766670574\n",
      " Bwd Packet Length Mean\t Flow IAT Max\t0.7924779919433813\n",
      " Bwd Packet Length Mean\tIdle Mean\t0.7969075428304624\n",
      " Bwd Packet Length Mean\t Fwd IAT Std\t0.7980317751214959\n",
      " Bwd Packet Length Mean\t Average Packet Size\t0.9388824280951519\n",
      " Bwd Packet Length Mean\t Packet Length Mean\t0.9467937384688162\n",
      " Bwd Packet Length Mean\t Bwd Packet Length Std\t0.9541420418007606\n",
      " Bwd Packet Length Mean\tBwd Packet Length Max\t0.961080266494235\n",
      " Source Port\t Destination Port\t0.7433456766826493\n",
      " Average Packet Size\t Fwd IAT Max\t0.7453629001489577\n",
      " Average Packet Size\t Flow IAT Max\t0.7464812212762855\n",
      " Average Packet Size\t Packet Length Variance\t0.8443962611963662\n",
      " Average Packet Size\t Bwd Packet Length Std\t0.8827461424208578\n",
      " Average Packet Size\t Avg Bwd Segment Size\t0.9388824280952545\n",
      " Average Packet Size\t Packet Length Mean\t0.9981810947902776\n",
      " Idle Min\t Average Packet Size\t0.7475004928880771\n",
      " Idle Min\t Packet Length Mean\t0.7575043543413033\n",
      " Idle Min\t Bwd Packet Length Std\t0.7598885220501719\n",
      " Idle Min\t Packet Length Std\t0.7851426202795624\n",
      " Idle Min\t Max Packet Length\t0.785214141658727\n",
      " Idle Min\t Bwd Packet Length Mean\t0.7930445037266065\n",
      " Idle Min\t Flow Duration\t0.8592545037593365\n",
      " Idle Min\tFwd IAT Total\t0.8603735984791377\n",
      " Idle Min\t Fwd IAT Max\t0.9812100240083236\n",
      " Idle Min\t Flow IAT Max\t0.9812388783554533\n",
      " Idle Min\t Idle Max\t0.9844350848674125\n",
      " Idle Min\tIdle Mean\t0.9964042833594592\n",
      " Packet Length Mean\t Fwd IAT Max\t0.7558946277199843\n",
      " Packet Length Mean\t Flow IAT Max\t0.7570898279252172\n",
      " Packet Length Mean\t Idle Max\t0.7572753747230211\n",
      " Packet Length Mean\t Fwd IAT Std\t0.7775722856741873\n",
      " Packet Length Mean\t Bwd Packet Length Std\t0.8886524886281845\n",
      "Bwd IAT Total\t Bwd IAT Std\t0.7747247226537836\n",
      "Bwd Packet Length Max\t Fwd IAT Max\t0.7758497967962134\n",
      "Bwd Packet Length Max\t Idle Min\t0.7766825386468035\n",
      "Bwd Packet Length Max\t Fwd IAT Std\t0.7887136885844401\n",
      "Bwd Packet Length Max\t Average Packet Size\t0.9017255613309576\n",
      "Bwd Packet Length Max\t Packet Length Mean\t0.9094460713346275\n",
      "Bwd Packet Length Max\t Avg Bwd Segment Size\t0.9610802664942437\n",
      "Bwd Packet Length Max\t Packet Length Std\t0.9724471773944056\n",
      "Bwd Packet Length Max\t Max Packet Length\t0.9813594769087975\n",
      " Bwd Packet Length Min\t Protocol\t0.7782648057639483\n",
      " Avg Bwd Segment Size\t Idle Min\t0.793044503726591\n",
      " Avg Bwd Segment Size\t Idle Max\t0.7931224194991037\n",
      " Avg Bwd Segment Size\t Fwd IAT Std\t0.7980317751214764\n",
      " Avg Bwd Segment Size\t Packet Length Variance\t0.8686654991008297\n",
      " Avg Bwd Segment Size\t Packet Length Mean\t0.9467937384688239\n",
      " Avg Bwd Segment Size\t Packet Length Std\t0.9563682125323525\n",
      " Avg Bwd Segment Size\t Bwd Packet Length Mean\t0.9999999999999997\n",
      " Active Std\t Active Max\t0.7931671233385089\n",
      " Bwd IAT Min\t Fwd IAT Min\t0.8018258003717389\n",
      " Packet Length Variance\t Packet Length Mean\t0.8447190190215148\n",
      " Packet Length Variance\t Bwd Packet Length Mean\t0.868665499100846\n",
      " Packet Length Variance\tBwd Packet Length Max\t0.9283800072322267\n",
      " Packet Length Variance\t Max Packet Length\t0.9417150916540507\n",
      " Packet Length Variance\t Packet Length Std\t0.9471083747649166\n",
      "Active Mean\t Active Max\t0.8562399279556373\n",
      "Active Mean\t Active Min\t0.8748038165191498\n",
      "Fwd IAT Total\t Flow IAT Std\t0.8610768837038297\n",
      "Fwd IAT Total\tIdle Mean\t0.8765211037264262\n",
      "Fwd IAT Total\t Idle Max\t0.8865611102437614\n",
      "Fwd IAT Total\t Fwd IAT Max\t0.8889974973145006\n",
      "Fwd IAT Total\t Flow Duration\t0.9992721413129388\n",
      " Fwd Packet Length Mean\t Fwd Packet Length Max\t0.8731580588360273\n",
      " Fwd Packet Length Mean\t Fwd Packet Length Std\t0.889615580871671\n",
      " Avg Fwd Segment Size\t Fwd Packet Length Max\t0.8731580588360273\n",
      " Fwd Packet Length Std\t Avg Fwd Segment Size\t0.889615580871671\n",
      " Fwd Packet Length Std\t Fwd Packet Length Max\t0.9650606682627464\n",
      " Bwd IAT Std\t Bwd IAT Max\t0.9379096621765358\n",
      " act_data_pkt_fwd\t Fwd Header Length\t0.9860583687373522\n",
      " act_data_pkt_fwd\tSubflow Fwd Packets\t0.9948211414837841\n",
      " act_data_pkt_fwd\t Total Backward Packets\t0.9956908073304076\n",
      " act_data_pkt_fwd\t Subflow Bwd Bytes\t0.9962240353126575\n",
      " Fwd Header Length.1\t act_data_pkt_fwd\t0.9860583687373522\n",
      " Fwd Header Length.1\tSubflow Fwd Packets\t0.9974188619609874\n",
      " Fwd Header Length.1\t Total Fwd Packets\t0.9974188619609874\n",
      " Bwd Header Length\t act_data_pkt_fwd\t0.989846259339052\n",
      " Bwd Header Length\t Subflow Bwd Bytes\t0.9951687472372518\n",
      " Bwd Header Length\t Total Length of Bwd Packets\t0.9951803405188321\n",
      " Bwd Header Length\t Fwd Header Length.1\t0.9955358782691212\n",
      " Bwd Header Length\t Total Backward Packets\t0.9985598890884615\n",
      " Fwd Header Length\t Subflow Bwd Bytes\t0.9927436246336535\n",
      " Fwd Header Length\t Subflow Bwd Packets\t0.994125751024611\n",
      " Fwd Header Length\t Bwd Header Length\t0.9955358782691212\n",
      " Fwd Header Length\t Total Fwd Packets\t0.9974188619609874\n",
      " Subflow Bwd Bytes\t Fwd Header Length.1\t0.9927436246336535\n",
      " Subflow Bwd Bytes\t Subflow Bwd Packets\t0.9977262255135213\n",
      " Total Length of Bwd Packets\t Fwd Header Length\t0.9927670416949704\n",
      " Total Length of Bwd Packets\t Fwd Header Length.1\t0.9927670416949704\n",
      " Total Length of Bwd Packets\t act_data_pkt_fwd\t0.9962216024332176\n",
      " Total Length of Bwd Packets\tSubflow Fwd Packets\t0.9974461906084334\n",
      " Total Length of Bwd Packets\t Total Backward Packets\t0.9977346407703326\n",
      " Total Length of Bwd Packets\t Subflow Bwd Bytes\t0.9999999509186306\n",
      " Total Backward Packets\t Fwd Header Length.1\t0.994125751024611\n",
      " Total Backward Packets\t Fwd Header Length\t0.994125751024611\n",
      " Total Backward Packets\t Subflow Bwd Bytes\t0.9977262255135213\n",
      " Subflow Bwd Packets\t Fwd Header Length.1\t0.994125751024611\n",
      " Subflow Bwd Packets\t act_data_pkt_fwd\t0.9956908073304076\n",
      " Subflow Bwd Packets\t Total Length of Bwd Packets\t0.9977346407703326\n",
      " Subflow Bwd Packets\t Bwd Header Length\t0.9985598890884615\n",
      " Total Fwd Packets\t act_data_pkt_fwd\t0.9948211414837841\n",
      " Total Fwd Packets\t Bwd Header Length\t0.9963330506872806\n",
      " Total Fwd Packets\t Subflow Bwd Bytes\t0.9974331682250401\n",
      " Total Fwd Packets\t Total Length of Bwd Packets\t0.9974461906084334\n",
      " Total Fwd Packets\t Total Backward Packets\t0.9979043802291482\n",
      " Total Fwd Packets\t Subflow Bwd Packets\t0.9979043802291482\n",
      " Flow Packets/s\tFwd Packets/s\t0.995493792334208\n",
      "Subflow Fwd Packets\t Bwd Header Length\t0.9963330506872806\n",
      "Subflow Fwd Packets\t Fwd Header Length\t0.9974188619609874\n",
      "Subflow Fwd Packets\t Subflow Bwd Bytes\t0.9974331682250401\n",
      "Subflow Fwd Packets\t Total Backward Packets\t0.9979043802291482\n",
      "Subflow Fwd Packets\t Subflow Bwd Packets\t0.9979043802291482\n",
      " ECE Flag Count\t RST Flag Count\t0.9978510471603392\n"
     ]
    }
   ],
   "source": [
    "c = dados_Dos_without_neg.corr().abs()\n",
    "s = c.unstack()\n",
    "#print(s[' Label'])\n",
    "so = s.sort_values(kind=\"quicksort\")\n",
    "#print(so[-61:-1])\n",
    "\n",
    "filtered_correlation = {}\n",
    "for item in so.iteritems(): # retorna os valores das correlações entre 0.7 e 1 sem repetições\n",
    "    a = item[0][0]\n",
    "    b = item[0][1]\n",
    "    if (item[1] >= 0.7 and  item[1] < 1):\n",
    "        if not(b in filtered_correlation and a in filtered_correlation[b]):\n",
    "            if a not in filtered_correlation:\n",
    "                filtered_correlation[a] = {}\n",
    "            filtered_correlation[a][b]=item[1]\n",
    "\n",
    "for i in filtered_correlation: # print the values\n",
    "    for j in filtered_correlation[i]:\n",
    "        print(i + '\\t' + j + '\\t' + str(filtered_correlation[i][j]))"
   ]
  },
  {
   "cell_type": "markdown",
   "metadata": {},
   "source": [
    "### For the variables more than 70% correlated, remove one of variables of each correlation"
   ]
  },
  {
   "cell_type": "code",
   "execution_count": 23,
   "metadata": {},
   "outputs": [],
   "source": [
    "for i in dados_WebAttacks_without_neg,dados_BruteForce_without_neg,dados_Dos_without_neg:\n",
    "        i.drop([' Total Backward Packets'], axis=1,inplace=True)\n",
    "        i.drop([' Total Length of Bwd Packets'], axis=1,inplace=True)\n",
    "        i.drop([' Bwd Packet Length Std'], axis=1,inplace=True)\n",
    "        i.drop([' Fwd Packet Length Mean'], axis=1,inplace=True)\n",
    "        i.drop([' Flow IAT Std'], axis=1,inplace=True)\n",
    "        i.drop(['Fwd IAT Total'], axis=1,inplace=True)\n",
    "        i.drop([' Packet Length Std'], axis=1,inplace=True)\n",
    "        i.drop([' Packet Length Variance'], axis=1,inplace=True)\n",
    "        i.drop([' Fwd Header Length.1'], axis=1,inplace=True)\n",
    "        i.drop(['Subflow Fwd Packets'], axis=1,inplace=True)\n",
    "        i.drop([' Subflow Bwd Packets'], axis=1,inplace=True)\n",
    "        i.drop([' Subflow Bwd Bytes'], axis=1,inplace=True)\n",
    "        i.drop([' Active Max'], axis=1,inplace=True)\n",
    "        i.drop([' Active Min'], axis=1,inplace=True)\n",
    "        i.drop(['Idle Mean'], axis=1,inplace=True)\n",
    "        i.drop([' Idle Min'], axis=1,inplace=True)\n",
    "        i.drop([' Idle Max'], axis=1,inplace=True)\n",
    "        i.drop([' Bwd IAT Mean'], axis=1,inplace=True)\n",
    "        i.drop([' Fwd IAT Mean'], axis=1,inplace=True)\n",
    "        i.drop([' Destination Port'], axis=1,inplace=True)\n",
    "        i.drop(['Bwd Packet Length Max'], axis=1,inplace=True)\n",
    "        i.drop([' Avg Fwd Segment Size'], axis=1,inplace=True)\n",
    "        i.drop([' Bwd Packet Length Min'], axis=1,inplace=True)\n",
    "        i.drop([' Bwd Header Length'], axis=1,inplace=True)\n",
    "        i.drop([' Max Packet Length'], axis=1,inplace=True)\n",
    "        i.drop([' Bwd IAT Std'], axis=1,inplace=True)\n",
    "        i.drop([' Bwd IAT Max'], axis=1,inplace=True)\n",
    "        i.drop([' Fwd Packet Length Max'], axis=1,inplace=True)\n",
    "        i.drop([' Fwd IAT Std'], axis=1,inplace=True)\n",
    "        i.drop([' Min Packet Length'], axis=1,inplace=True)\n",
    "        i.drop([' Flow Duration'], axis=1,inplace=True) \n",
    "        i.drop([' Flow IAT Min'], axis=1,inplace=True) \n",
    "        i.drop([' Flow IAT Max'], axis=1,inplace=True)\n",
    "        i.drop([' Bwd IAT Min'], axis=1,inplace=True)\n",
    "        i.drop(['Fwd Packets/s'], axis=1,inplace=True)\n",
    "        i.drop([' ECE Flag Count'], axis=1,inplace=True)\n",
    "        i.drop([' Subflow Fwd Bytes'], axis=1,inplace=True)\n",
    "        i.drop([' SYN Flag Count'], axis=1,inplace=True)\n",
    "        i.drop([' Average Packet Size'], axis=1,inplace=True)\n",
    "        i.drop([' Packet Length Mean'], axis=1,inplace=True)\n",
    "        i.drop([' Bwd Packet Length Mean'], axis=1,inplace=True)\n",
    "        i.drop([' Fwd Packet Length Std'], axis=1,inplace=True)\n",
    "\n",
    "dados_WebAttacks_without_neg.drop([' act_data_pkt_fwd'] , axis=1,inplace=True)\n",
    "dados_WebAttacks_without_neg.drop([' Total Fwd Packets'] , axis=1,inplace=True)\n",
    "dados_BruteForce_without_neg.drop([' Flow IAT Mean'] , axis=1,inplace=True)\n",
    "dados_BruteForce_without_neg.drop([' Total Fwd Packets'] , axis=1,inplace=True)\n",
    "dados_Dos_without_neg.drop([' Avg Bwd Segment Size'] , axis=1,inplace=True)\n",
    "dados_Dos_without_neg.drop([' Total Fwd Packets'] , axis=1,inplace=True)\n",
    "dados_Dos_without_neg.drop([' Fwd Header Length'] , axis=1,inplace=True)\n"
   ]
  },
  {
   "cell_type": "markdown",
   "metadata": {},
   "source": [
    "### Log transformation"
   ]
  },
  {
   "cell_type": "code",
   "execution_count": 24,
   "metadata": {},
   "outputs": [],
   "source": [
    "for i in [dados_WebAttacks_without_neg,dados_BruteForce_without_neg,dados_Dos_without_neg]:\n",
    "    columns = i.columns\n",
    "    for j in columns:\n",
    "        max=i[j].max()\n",
    "        if(max>10000):\n",
    "            i[j]=np.log(1 + i[j])\n",
    "\n",
    "dados_WebAttacks_without_neg = dados_WebAttacks_without_neg.replace([np.inf, -np.inf], np.nan).dropna(axis=0)\n",
    "dados_BruteForce_without_neg = dados_BruteForce_without_neg.replace([np.inf, -np.inf], np.nan).dropna(axis=0)\n",
    "dados_Dos_without_neg = dados_Dos_without_neg.replace([np.inf, -np.inf], np.nan).dropna(axis=0)"
   ]
  },
  {
   "cell_type": "markdown",
   "metadata": {},
   "source": [
    "### Normalisation"
   ]
  },
  {
   "cell_type": "code",
   "execution_count": 25,
   "metadata": {},
   "outputs": [],
   "source": [
    "dados_WebAttacks_normalized = dados_WebAttacks_without_neg\n",
    "dados_BruteForce_normalized = dados_BruteForce_without_neg\n",
    "dados_Dos_normalized = dados_Dos_without_neg\n",
    "\n",
    "############## WebAttacks\n",
    "Web_columns = dados_WebAttacks_normalized.columns[:-1]\n",
    "dados_WebAttacks_normalized[Web_columns] = preprocessing.normalize(dados_WebAttacks_normalized[Web_columns], norm='max',axis=0)\n",
    "\n",
    "############## BruteForce\n",
    "BrutForce_columns = dados_BruteForce_normalized.columns[:-1]\n",
    "dados_BruteForce_normalized[BrutForce_columns] = preprocessing.normalize(dados_BruteForce_normalized[BrutForce_columns], norm='max',axis=0)\n",
    "\n",
    "############## Dos\n",
    "Dos_columns = dados_Dos_normalized.columns[:-1]\n",
    "dados_Dos_normalized[Dos_columns] = preprocessing.normalize(dados_Dos_normalized[Dos_columns], norm='max',axis=0)\n"
   ]
  },
  {
   "cell_type": "markdown",
   "metadata": {},
   "source": [
    "### Remove duplicated rows"
   ]
  },
  {
   "cell_type": "code",
   "execution_count": 26,
   "metadata": {},
   "outputs": [],
   "source": [
    "dados_WebAttacks_normalized = dados_WebAttacks_normalized.drop_duplicates()\n",
    "dados_BruteForce_normalized = dados_BruteForce_normalized.drop_duplicates()\n",
    "dados_Dos_normalized = dados_Dos_normalized.drop_duplicates()"
   ]
  },
  {
   "cell_type": "markdown",
   "metadata": {},
   "source": [
    "### Shuffle"
   ]
  },
  {
   "cell_type": "code",
   "execution_count": 27,
   "metadata": {},
   "outputs": [],
   "source": [
    "dados_WebAttacks_normalized = shuffle(dados_WebAttacks_normalized)\n",
    "dados_BruteForce_normalized = shuffle(dados_BruteForce_normalized)\n",
    "dados_Dos_normalized = shuffle(dados_Dos_normalized)"
   ]
  },
  {
   "cell_type": "markdown",
   "metadata": {},
   "source": [
    "### Classes count"
   ]
  },
  {
   "cell_type": "code",
   "execution_count": 29,
   "metadata": {},
   "outputs": [
    {
     "name": "stdout",
     "output_type": "stream",
     "text": [
      "Counter({0: 143813, 1: 1507, 3: 652, 2: 21})\n",
      "Counter({0: 369694, 1: 7931, 2: 5895})\n",
      "Counter({0: 384707, 2: 216885, 1: 10288, 4: 5769, 3: 5499, 5: 7})\n"
     ]
    }
   ],
   "source": [
    "counter = Counter(dados_WebAttacks_normalized[' Label'])\n",
    "print(counter)\n",
    "counter = Counter(dados_BruteForce_normalized[' Label'])\n",
    "print(counter)\n",
    "counter = Counter(dados_Dos_normalized[' Label'])\n",
    "print(counter)"
   ]
  },
  {
   "cell_type": "markdown",
   "metadata": {},
   "source": [
    "### Class seperation"
   ]
  },
  {
   "cell_type": "code",
   "execution_count": 31,
   "metadata": {},
   "outputs": [],
   "source": [
    "Web_Attack_Benign = dados_WebAttacks_normalized[' Label'] == 0\n",
    "Web_Attack_Brute_Force = dados_WebAttacks_normalized[' Label'] == 1\n",
    "Web_Attack_SQL_Injection = dados_WebAttacks_normalized[' Label'] == 2\n",
    "Web_Attack_XSS = dados_WebAttacks_normalized[' Label'] == 3\n",
    "\n",
    "Brute_Force_Benign = dados_BruteForce_normalized[' Label'] == 0\n",
    "Brute_Force_FTP_Patator = dados_BruteForce_normalized[' Label'] == 1\n",
    "Brute_Force_SSH_Patator = dados_BruteForce_normalized[' Label'] == 2\n",
    "\n",
    "Dos_Benign = dados_Dos_normalized[' Label'] == 0\n",
    "Dos_GoldenEye = dados_Dos_normalized[' Label'] == 1\n",
    "DoS_Hulk = dados_Dos_normalized[' Label'] == 2\n",
    "DoS_Slowhttptest = dados_Dos_normalized[' Label'] == 3\n",
    "DoS_Slowlori = dados_Dos_normalized[' Label'] == 4\n",
    "Heartbleed = dados_Dos_normalized[' Label'] == 5"
   ]
  },
  {
   "cell_type": "markdown",
   "metadata": {},
   "source": [
    "### Data for the GAN models"
   ]
  },
  {
   "cell_type": "code",
   "execution_count": 55,
   "metadata": {},
   "outputs": [],
   "source": [
    "dados_WebAttacks_normalized[Web_Attack_Brute_Force].to_csv(r'GAN_generation\\Web_Attack_Brute_Force_Data.csv', index = False)\n",
    "#since Web_Attack_SQL_Injection won't be used, the value of the Web_Attack_XSS class should be changed for 2\n",
    "dados_WebAttacks_normalized.loc[Web_Attack_XSS,' Label']=2\n",
    "dados_WebAttacks_normalized[Web_Attack_XSS].to_csv(r'GAN_generation\\Web_Attack_XSS_Data.csv', index = False)\n",
    "\n",
    "dados_BruteForce_normalized[Brute_Force_FTP_Patator].to_csv(r'GAN_generation\\Brute_Force_FTP_Patator_Data.csv', index = False)\n",
    "dados_BruteForce_normalized[Brute_Force_SSH_Patator].to_csv(r'GAN_generation\\Brute_Force_SSH_Patator_Data.csv', index = False)\n",
    "\n",
    "dados_Dos_normalized[Dos_GoldenEye].to_csv(r'GAN_generation\\Dos_GoldenEye_Data.csv', index = False)\n",
    "dados_Dos_normalized[DoS_Hulk].to_csv(r'GAN_generation\\DoS_Hulk_Data.csv', index = False)\n",
    "dados_Dos_normalized[DoS_Slowhttptest].to_csv(r'GAN_generation\\DoS_Slowhttptest_Data.csv', index = False)\n",
    "dados_Dos_normalized[DoS_Slowlori].to_csv(r'GAN_generation\\DoS_Slowlori_Data.csv', index = False)"
   ]
  },
  {
   "cell_type": "markdown",
   "metadata": {},
   "source": [
    "### Train-test split"
   ]
  },
  {
   "cell_type": "code",
   "execution_count": 56,
   "metadata": {},
   "outputs": [],
   "source": [
    "WebAttack_Benign_train, WebAttack_Benign_test = np.array_split(dados_WebAttacks_normalized[Web_Attack_Benign], 2)\n",
    "WebAttack_Brute_Force_train, WebAttack_Brute_Force_test = np.array_split(dados_WebAttacks_normalized[Web_Attack_Brute_Force], 2)\n",
    "Web_Attack_XSS_train, Web_Attack_XSS_test = np.array_split(dados_WebAttacks_normalized[Web_Attack_XSS], 2)\n",
    "\n",
    "Brute_Force_Benign_train, Brute_Force_Benign_test = np.array_split(dados_BruteForce_normalized[Brute_Force_Benign], 2)\n",
    "Brute_Force_FTP_Patator_train, Brute_Force_FTP_Patator_test = np.array_split(dados_BruteForce_normalized[Brute_Force_FTP_Patator], 2)\n",
    "Brute_Force_SSH_Patator_train, Brute_Force_SSH_Patator_test = np.array_split(dados_BruteForce_normalized[Brute_Force_SSH_Patator], 2)\n",
    "\n",
    "Dos_Benign_train, Dos_Benign_test = np.array_split(dados_Dos_normalized[Dos_Benign], 2)\n",
    "Dos_GoldenEye_train, Dos_GoldenEye_test = np.array_split(dados_Dos_normalized[Dos_GoldenEye], 2)\n",
    "DoS_Hulk_train, DoS_Hulk_test = np.array_split(dados_Dos_normalized[DoS_Hulk], 2)\n",
    "DoS_Slowhttptest_train, DoS_Slowhttptest_test = np.array_split(dados_Dos_normalized[DoS_Slowhttptest], 2)\n",
    "DoS_Slowlori_train, DoS_Slowlori_test = np.array_split(dados_Dos_normalized[DoS_Slowlori], 2)"
   ]
  },
  {
   "cell_type": "code",
   "execution_count": 57,
   "metadata": {},
   "outputs": [],
   "source": [
    "# Join all train and test data and shuffle\n",
    "\n",
    "WebAttack_train = pd.concat([WebAttack_Benign_train, WebAttack_Brute_Force_train, Web_Attack_XSS_train])\n",
    "WebAttack_test = pd.concat([WebAttack_Benign_test, WebAttack_Brute_Force_test, Web_Attack_XSS_test])\n",
    "WebAttack_train = shuffle(WebAttack_train)\n",
    "WebAttack_test = shuffle(WebAttack_test)\n",
    "\n",
    "Brute_Force_train = pd.concat([Brute_Force_Benign_train, Brute_Force_FTP_Patator_train, Brute_Force_SSH_Patator_train])\n",
    "Brute_Force_test = pd.concat([Brute_Force_Benign_test, Brute_Force_FTP_Patator_test, Brute_Force_SSH_Patator_test])\n",
    "Brute_Force_train = shuffle(Brute_Force_train)\n",
    "Brute_Force_test = shuffle(Brute_Force_test)\n",
    "\n",
    "Dos_train = pd.concat([Dos_Benign_train, Dos_GoldenEye_train, DoS_Hulk_train, DoS_Slowhttptest_train, DoS_Slowlori_train])\n",
    "Dos_test = pd.concat([Dos_Benign_test, Dos_GoldenEye_test, DoS_Hulk_test, DoS_Slowhttptest_test, DoS_Slowlori_test])\n",
    "Dos_train = shuffle(Dos_train)\n",
    "Dos_test = shuffle(Dos_test)"
   ]
  },
  {
   "cell_type": "markdown",
   "metadata": {},
   "source": [
    "### Save train and test data in csv files"
   ]
  },
  {
   "cell_type": "code",
   "execution_count": 58,
   "metadata": {},
   "outputs": [],
   "source": [
    "WebAttack_train.to_csv(r'Train_test_data/WebAttack_train.csv', index = False)\n",
    "WebAttack_test.to_csv(r'Train_test_data/WebAttack_test.csv', index = False)\n",
    "\n",
    "Brute_Force_train.to_csv(r'Train_test_data/Brute_Force_train.csv', index = False)\n",
    "Brute_Force_test.to_csv(r'Train_test_data/Brute_Force_test.csv', index = False)\n",
    "\n",
    "Dos_train.to_csv(r'Train_test_data/Dos_train.csv', index = False)\n",
    "Dos_test.to_csv(r'Train_test_data/Dos_test.csv', index = False)"
   ]
  },
  {
   "cell_type": "markdown",
   "metadata": {},
   "source": [
    "### See the amount of data needed for GAN generation"
   ]
  },
  {
   "cell_type": "code",
   "execution_count": 62,
   "metadata": {},
   "outputs": [
    {
     "name": "stdout",
     "output_type": "stream",
     "text": [
      "Counter({0: 71907, 1: 754, 2: 326})\n",
      "Counter({0: 184847, 1: 3965, 2: 2947})\n",
      "Counter({0: 192354, 2: 108443, 1: 5144, 4: 2885, 3: 2750})\n"
     ]
    }
   ],
   "source": [
    "counter = Counter(WebAttack_train[' Label'])\n",
    "print(counter)\n",
    "\n",
    "counter = Counter(Brute_Force_train[' Label'])\n",
    "print(counter)\n",
    "\n",
    "counter = Counter(Dos_train[' Label'])\n",
    "print(counter)"
   ]
  }
 ],
 "metadata": {
  "kernelspec": {
   "display_name": "Python 3",
   "language": "python",
   "name": "python3"
  },
  "language_info": {
   "codemirror_mode": {
    "name": "ipython",
    "version": 3
   },
   "file_extension": ".py",
   "mimetype": "text/x-python",
   "name": "python",
   "nbconvert_exporter": "python",
   "pygments_lexer": "ipython3",
   "version": "3.6.5"
  }
 },
 "nbformat": 4,
 "nbformat_minor": 2
}

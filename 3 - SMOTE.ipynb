{
 "cells": [
  {
   "cell_type": "code",
   "execution_count": null,
   "metadata": {},
   "outputs": [],
   "source": [
    "import pandas as pd\n",
    "from collections import Counter\n",
    "from imblearn import under_sampling, over_sampling\n",
    "from imblearn.over_sampling import SMOTE\n",
    "from sklearn.utils import shuffle\n",
    "import math\n",
    "from matplotlib import pyplot"
   ]
  },
  {
   "cell_type": "markdown",
   "metadata": {},
   "source": [
    "### Load training data"
   ]
  },
  {
   "cell_type": "code",
   "execution_count": null,
   "metadata": {},
   "outputs": [],
   "source": [
    "Bot_train = pd.read_csv('Train_test_data/Bot_train.csv', sep=',')\n",
    "\n",
    "WebAttack_train = pd.read_csv('Train_test_data/WebAttack_train.csv', sep=',') \n",
    "\n",
    "Brute_Force_train = pd.read_csv('Train_test_data/Brute_Force_train.csv', sep=',') \n",
    "\n",
    "Dos_train = pd.read_csv('Train_test_data/Dos_train.csv', sep=',')"
   ]
  },
  {
   "cell_type": "markdown",
   "metadata": {},
   "source": [
    "### SMOTE"
   ]
  },
  {
   "cell_type": "code",
   "execution_count": null,
   "metadata": {},
   "outputs": [],
   "source": [
    "oversample = SMOTE()\n",
    "\n",
    "bot_smote, y = oversample.fit_resample(Bot_train, Bot_train[' Label'])\n",
    "counter = Counter(y)\n",
    "print(counter)\n",
    "\n",
    "WebAttack_smote, y = oversample.fit_resample(WebAttack_train, WebAttack_train[' Label'])\n",
    "counter = Counter(y)\n",
    "print(counter)\n",
    "\n",
    "Brute_Force_smote, y = oversample.fit_resample(Brute_Force_train, Brute_Force_train[' Label'])\n",
    "counter = Counter(y)\n",
    "print(counter)\n",
    "\n",
    "Dos_smote, y = oversample.fit_resample(Dos_train, Dos_train[' Label'])\n",
    "#counter = Counter(y)\n",
    "#print(counter)"
   ]
  },
  {
   "cell_type": "markdown",
   "metadata": {},
   "source": [
    "### SMOTE data generated SHUFFLE"
   ]
  },
  {
   "cell_type": "code",
   "execution_count": null,
   "metadata": {},
   "outputs": [],
   "source": [
    "bot_smote = shuffle(bot_smote)\n",
    "WebAttack_smote  = shuffle(WebAttack_smote)\n",
    "Brute_Force_smote  = shuffle(Brute_Force_smote)\n",
    "Dos_smote = shuffle(Dos_smote)"
   ]
  },
  {
   "cell_type": "markdown",
   "metadata": {},
   "source": [
    "### Save SMOTE generated data in csv files"
   ]
  },
  {
   "cell_type": "code",
   "execution_count": null,
   "metadata": {},
   "outputs": [],
   "source": [
    "bot_smote.to_csv(r'SMOTE_Balanced_Data/Botnet_smote_train.csv', index = False)\n",
    "WebAttack_smote.to_csv(r'SMOTE_Balanced_Data/WebAttack_smote_train.csv', index = False)\n",
    "Brute_Force_smote.to_csv(r'SMOTE_Balanced_Data/Brute_Force_smote_train.csv', index = False)\n",
    "Dos_smote.to_csv(r'SMOTE_Balanced_Data/Dos_smote_train.csv', index = False)"
   ]
  },
  {
   "cell_type": "markdown",
   "metadata": {},
   "source": [
    "### Calculate the Euclidean Distance between the SMOTE generated data and the real data "
   ]
  },
  {
   "cell_type": "code",
   "execution_count": null,
   "metadata": {},
   "outputs": [],
   "source": [
    "#Choose the data to measure\n",
    "ORIGINAL = Bot_train\n",
    "GENERATED = bot_smote\n",
    "\n",
    "#Choose the label class to measure\n",
    "ORIGINAL_CLASS = ORIGINAL[' Label']==1\n",
    "GENERATED_CLASS = GENERATED[' Label']==1\n",
    "\n",
    "\n",
    "ORIGINAL_DATA = ORIGINAL[ORIGINAL_CLASS]\n",
    "NUMBER_ROWS = len(ORIGINAL_DATA)\n",
    "GENERATED_DATA = GENERATED[GENERATED_CLASS]\n",
    "GENERATED_DATA = GENERATED_DATA[:NUMBER_ROWS]\n",
    "\n",
    "\n",
    "for feature in ORIGINAL_DATA.columns:\n",
    "    array = [value for value in ORIGINAL_DATA[feature]]\n",
    "    temp =  [value for value in GENERATED_DATA[feature]]\n",
    "    \n",
    "    array.sort()\n",
    "    temp.sort()\n",
    "   \n",
    "    x=tuple(array)\n",
    "    y= tuple(temp)\n",
    "\n",
    "    distance = math.sqrt(sum([(a - b) ** 2 for a, b in zip(x, y)]))\n",
    "    euclidean_distance = distance/NUMBER_ROWS\n",
    "\n",
    "    print('Euclidean Distance of ' + feature + ': ' + str(euclidean_distance))\n",
    "    pyplot.figure()\n",
    "    pyplot.hist(array, alpha=0.7, label='Original')\n",
    "    pyplot.hist(temp, alpha=0.7, label='Generated')\n",
    "    pyplot.legend(loc='upper right')\n",
    "    pyplot.show()"
   ]
  }
 ],
 "metadata": {
  "kernelspec": {
   "display_name": "Python 3",
   "language": "python",
   "name": "python3"
  },
  "language_info": {
   "codemirror_mode": {
    "name": "ipython",
    "version": 3
   },
   "file_extension": ".py",
   "mimetype": "text/x-python",
   "name": "python",
   "nbconvert_exporter": "python",
   "pygments_lexer": "ipython3",
   "version": "3.6.5"
  }
 },
 "nbformat": 4,
 "nbformat_minor": 2
}

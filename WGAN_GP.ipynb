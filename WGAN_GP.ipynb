{
 "cells": [
  {
   "cell_type": "code",
   "execution_count": 1,
   "metadata": {},
   "outputs": [
    {
     "name": "stderr",
     "output_type": "stream",
     "text": [
      "C:\\Users\\Elisa Valente\\AppData\\Local\\Programs\\Python\\Python36\\lib\\site-packages\\tensorflow\\python\\framework\\dtypes.py:526: FutureWarning: Passing (type, 1) or '1type' as a synonym of type is deprecated; in a future version of numpy, it will be understood as (type, (1,)) / '(1,)type'.\n",
      "  _np_qint8 = np.dtype([(\"qint8\", np.int8, 1)])\n",
      "C:\\Users\\Elisa Valente\\AppData\\Local\\Programs\\Python\\Python36\\lib\\site-packages\\tensorflow\\python\\framework\\dtypes.py:527: FutureWarning: Passing (type, 1) or '1type' as a synonym of type is deprecated; in a future version of numpy, it will be understood as (type, (1,)) / '(1,)type'.\n",
      "  _np_quint8 = np.dtype([(\"quint8\", np.uint8, 1)])\n",
      "C:\\Users\\Elisa Valente\\AppData\\Local\\Programs\\Python\\Python36\\lib\\site-packages\\tensorflow\\python\\framework\\dtypes.py:528: FutureWarning: Passing (type, 1) or '1type' as a synonym of type is deprecated; in a future version of numpy, it will be understood as (type, (1,)) / '(1,)type'.\n",
      "  _np_qint16 = np.dtype([(\"qint16\", np.int16, 1)])\n",
      "C:\\Users\\Elisa Valente\\AppData\\Local\\Programs\\Python\\Python36\\lib\\site-packages\\tensorflow\\python\\framework\\dtypes.py:529: FutureWarning: Passing (type, 1) or '1type' as a synonym of type is deprecated; in a future version of numpy, it will be understood as (type, (1,)) / '(1,)type'.\n",
      "  _np_quint16 = np.dtype([(\"quint16\", np.uint16, 1)])\n",
      "C:\\Users\\Elisa Valente\\AppData\\Local\\Programs\\Python\\Python36\\lib\\site-packages\\tensorflow\\python\\framework\\dtypes.py:530: FutureWarning: Passing (type, 1) or '1type' as a synonym of type is deprecated; in a future version of numpy, it will be understood as (type, (1,)) / '(1,)type'.\n",
      "  _np_qint32 = np.dtype([(\"qint32\", np.int32, 1)])\n",
      "C:\\Users\\Elisa Valente\\AppData\\Local\\Programs\\Python\\Python36\\lib\\site-packages\\tensorflow\\python\\framework\\dtypes.py:535: FutureWarning: Passing (type, 1) or '1type' as a synonym of type is deprecated; in a future version of numpy, it will be understood as (type, (1,)) / '(1,)type'.\n",
      "  np_resource = np.dtype([(\"resource\", np.ubyte, 1)])\n"
     ]
    }
   ],
   "source": [
    "import pickle as pkl\n",
    "import numpy as np\n",
    "import tensorflow as tf\n",
    "import matplotlib.pyplot as plt\n",
    "import pandas as pd\n",
    "import csv\n",
    "import random"
   ]
  },
  {
   "cell_type": "markdown",
   "metadata": {},
   "source": [
    "### Load data and define the dataset name"
   ]
  },
  {
   "cell_type": "code",
   "execution_count": 2,
   "metadata": {},
   "outputs": [
    {
     "name": "stdout",
     "output_type": "stream",
     "text": [
      "(1361, 24)\n",
      "(5895, 25)\n",
      "(7931, 25)\n",
      "(1507, 25)\n",
      "(652, 25)\n",
      "(10288, 24)\n",
      "(216885, 24)\n",
      "(5499, 24)\n",
      "(5769, 24)\n"
     ]
    }
   ],
   "source": [
    "Bot = pd.read_csv('GAN_generation/Bot_Attack_Data_for_GAN.csv', sep=',')\n",
    "Bot.name = 'Bot'\n",
    "print(Bot.shape)\n",
    "\n",
    "\n",
    "BF_SSH_Patator = pd.read_csv('GAN_generation/Brute_Force_SSH_Patator_Data.csv', sep=',')\n",
    "BF_SSH_Patator.name = 'BF_SSH_Patator'\n",
    "print(BF_SSH_Patator.shape)\n",
    "\n",
    "BF_FTP_Patator = pd.read_csv('GAN_generation/Brute_Force_FTP_Patator_Data.csv', sep=',')\n",
    "BF_FTP_Patator.name = 'BF_FTP_Patator'\n",
    "print(BF_FTP_Patator.shape)\n",
    "\n",
    "\n",
    "WA_Brute_Force = pd.read_csv('GAN_generation/Web_Attack_Brute_Force_Data.csv', sep=',')\n",
    "WA_Brute_Force.name = 'WA_Brute_Force'\n",
    "print(WA_Brute_Force.shape)\n",
    "\n",
    "WA_XSS = pd.read_csv('GAN_generation/Web_Attack_XSS_Data.csv', sep=',')\n",
    "WA_XSS.name = 'WA_XSS'\n",
    "print(WA_XSS.shape)\n",
    "\n",
    "\n",
    "DoS_GoldenEye = pd.read_csv('GAN_generation/Dos_GoldenEye_Data.csv', sep=',')\n",
    "DoS_GoldenEye.name = 'DoS_GoldenEye'\n",
    "print(DoS_GoldenEye.shape)\n",
    "\n",
    "DoS_Hulk = pd.read_csv('GAN_generation/DoS_Hulk_Data.csv', sep=',')\n",
    "DoS_Hulk.name = 'DoS_Hulk'\n",
    "print(DoS_Hulk.shape)\n",
    "\n",
    "DoS_Slowhttptest = pd.read_csv('GAN_generation/DoS_Slowhttptest_Data.csv', sep=',')\n",
    "DoS_Slowhttptest.name = 'DoS_Slowhttptest'\n",
    "print(DoS_Slowhttptest.shape)\n",
    "\n",
    "DoS_Slowlori = pd.read_csv('GAN_generation/DoS_Slowlori_Data.csv', sep=',')\n",
    "DoS_Slowlori.name = 'DoS_Slowlori'\n",
    "print(DoS_Slowlori.shape)"
   ]
  },
  {
   "cell_type": "markdown",
   "metadata": {},
   "source": [
    "### Amount of data needed to generate for each label"
   ]
  },
  {
   "cell_type": "code",
   "execution_count": null,
   "metadata": {},
   "outputs": [],
   "source": [
    "Bot_generate = 83316\n",
    "\n",
    "BF_SSH_Patator_generate = 181899\n",
    "\n",
    "BF_FTP_Patator_generate = 180881\n",
    "\n",
    "WA_Brute_Force_generate = 71153\n",
    "\n",
    "WA_XSS_generate = 71581\n",
    "\n",
    "DoS_GoldenEye_generate = 187210\n",
    "\n",
    "DoS_Hulk_generate = 83911\n",
    "\n",
    "DoS_Slowhttptest_generate = 189604\n",
    "\n",
    "DoS_Slowlori_generate = 189469"
   ]
  },
  {
   "cell_type": "markdown",
   "metadata": {},
   "source": [
    "### Model Inputs"
   ]
  },
  {
   "cell_type": "code",
   "execution_count": 3,
   "metadata": {},
   "outputs": [],
   "source": [
    "def model_inputs(real_dim, z_dim):\n",
    "    inputs_real = tf.placeholder(tf.float32, (None, real_dim), name=\"inputs_real\")\n",
    "    inputs_z = tf.placeholder(tf.float32, (None, z_dim), name=\"inputs_z\")\n",
    "\n",
    "    return inputs_real, inputs_z"
   ]
  },
  {
   "cell_type": "markdown",
   "metadata": {},
   "source": [
    "### Generator "
   ]
  },
  {
   "cell_type": "code",
   "execution_count": 4,
   "metadata": {},
   "outputs": [],
   "source": [
    "def generator(z, out_dim, n_units=64, reuse=False,  alpha=0.01):\n",
    "\n",
    "    with tf.variable_scope('generator', reuse=reuse):\n",
    "        # Hidden layer\n",
    "        h1 = tf.layers.dense(z, n_units, activation=None)\n",
    "\n",
    "        #ReLU\n",
    "        h1 = tf.maximum(0.0, h1)\n",
    "\n",
    "        h2  = tf.layers.dense(h1, n_units, activation=None)\n",
    "\n",
    "        h2 = tf.maximum(0.0, h2)\n",
    "\n",
    "        h3  = tf.layers.dense(h2, n_units, activation=None)\n",
    "\n",
    "        h3 = tf.maximum(0.0, h3)\n",
    "        # Logits and sigmoid output\n",
    "        logits = tf.layers.dense(h3, out_dim, activation=None)\n",
    "        \n",
    "        out = tf.nn.sigmoid(logits)\n",
    "\n",
    "        return out, logits"
   ]
  },
  {
   "cell_type": "markdown",
   "metadata": {},
   "source": [
    "### Discriminator"
   ]
  },
  {
   "cell_type": "code",
   "execution_count": 5,
   "metadata": {},
   "outputs": [],
   "source": [
    "def discriminator(x, n_units=64, reuse=False, alpha=0.01):\n",
    "\n",
    "    with tf.variable_scope('discriminator', reuse=reuse):\n",
    "        # Hidden layer\n",
    "        h1 = tf.layers.dense(x, n_units, activation=None)\n",
    "        # Leaky ReLU\n",
    "        h1 = tf.maximum(h1, alpha*h1)\n",
    "\n",
    "        h2  = tf.layers.dense(h1, n_units, activation=None)\n",
    "\n",
    "        h2 = tf.maximum(h2, alpha*h2)\n",
    "\n",
    "        logits = tf.layers.dense(h2, 1, activation=None)\n",
    "        \n",
    "        out = tf.maximum(logits, alpha*logits)\n",
    "                \n",
    "        return out, logits"
   ]
  },
  {
   "cell_type": "markdown",
   "metadata": {},
   "source": [
    "### Hyperparameters "
   ]
  },
  {
   "cell_type": "code",
   "execution_count": 6,
   "metadata": {},
   "outputs": [],
   "source": [
    "# Select the dataset to use\n",
    "DATASET = Bot\n",
    "\n",
    "# Network Hyperparameters\n",
    "INPUT_SIZE = len(DATASET.columns)   #bot 24, infiltration 22 #Brute Force 25, WEB Attack 25, DOS 24\n",
    "# Size of latent vector to generator\n",
    "Z_SIZE = 70 \n",
    "G_HIDDEN_SIZE = 64\n",
    "D_HIDDEN_SIZE = 64\n",
    "ALPHA = 0.02\n",
    "\n",
    "# Gradient penalty hyperparameters\n",
    "LAMBDA = 10 \n",
    "D_LR = 0.0005\n",
    "G_LR = 0.0005\n",
    "BETA1_D = 0.0\n",
    "BETA1_G = 0.0\n",
    "\n",
    "# Training parameters\n",
    "BATCH_SIZE=100 \n",
    "EPOCHS = 101\n",
    "AMOUNT_TO_GENERATE = Bot_generate"
   ]
  },
  {
   "cell_type": "markdown",
   "metadata": {},
   "source": [
    "### Building the Network"
   ]
  },
  {
   "cell_type": "code",
   "execution_count": 7,
   "metadata": {},
   "outputs": [
    {
     "name": "stdout",
     "output_type": "stream",
     "text": [
      "WARNING:tensorflow:From <ipython-input-4-c23039a64e72>:5: dense (from tensorflow.python.layers.core) is deprecated and will be removed in a future version.\n",
      "Instructions for updating:\n",
      "Use keras.layers.dense instead.\n",
      "WARNING:tensorflow:From C:\\Users\\Elisa Valente\\AppData\\Local\\Programs\\Python\\Python36\\lib\\site-packages\\tensorflow\\python\\framework\\op_def_library.py:263: colocate_with (from tensorflow.python.framework.ops) is deprecated and will be removed in a future version.\n",
      "Instructions for updating:\n",
      "Colocations handled automatically by placer.\n"
     ]
    }
   ],
   "source": [
    "tf.reset_default_graph()\n",
    "# Create the input placeholders\n",
    "input_real, input_z = model_inputs(INPUT_SIZE, Z_SIZE)\n",
    "\n",
    "# Generator network\n",
    "g_model, g_logits = generator(input_z, INPUT_SIZE, G_HIDDEN_SIZE, reuse=False,  alpha=ALPHA)\n",
    "\n",
    "# Disriminator network\n",
    "d_model_real, d_logits_real = discriminator(input_real, D_HIDDEN_SIZE, reuse=False, alpha=ALPHA)\n",
    "d_model_fake, d_logits_fake = discriminator(g_model, D_HIDDEN_SIZE, reuse=True, alpha=ALPHA)\n"
   ]
  },
  {
   "cell_type": "markdown",
   "metadata": {},
   "source": [
    "### Training losses"
   ]
  },
  {
   "cell_type": "code",
   "execution_count": 8,
   "metadata": {},
   "outputs": [],
   "source": [
    "# Generator\n",
    "g_loss = -tf.reduce_mean(d_model_fake)\n",
    "\n",
    "# Discriminator\n",
    "d_loss = tf.reduce_mean(d_model_fake) - tf.reduce_mean(d_model_real)\n",
    "\n",
    "alpha = tf.random_uniform(shape=[BATCH_SIZE,1],minval=0.,maxval=1.)\n",
    "\n",
    "differences = g_model - input_real\n",
    "interpolates = input_real + (alpha*differences)\n",
    "gradients = tf.gradients(discriminator(interpolates, reuse=True), interpolates)[0]\n",
    "slopes = tf.sqrt(tf.reduce_sum(tf.square(gradients), reduction_indices=[1]))\n",
    "gradient_penalty = tf.reduce_mean((slopes-1.)**2)\n",
    "d_loss += LAMBDA*gradient_penalty"
   ]
  },
  {
   "cell_type": "markdown",
   "metadata": {},
   "source": [
    "### Optimizer"
   ]
  },
  {
   "cell_type": "code",
   "execution_count": 9,
   "metadata": {},
   "outputs": [
    {
     "name": "stdout",
     "output_type": "stream",
     "text": [
      "WARNING:tensorflow:From C:\\Users\\Elisa Valente\\AppData\\Local\\Programs\\Python\\Python36\\lib\\site-packages\\tensorflow\\python\\ops\\math_ops.py:3066: to_int32 (from tensorflow.python.ops.math_ops) is deprecated and will be removed in a future version.\n",
      "Instructions for updating:\n",
      "Use tf.cast instead.\n"
     ]
    }
   ],
   "source": [
    "# Split the trainable_variables into G and D parts\n",
    "t_vars = tf.trainable_variables()\n",
    "g_vars = [var for var in t_vars if var.name.startswith(\"generator\")]\n",
    "d_vars = [var for var in t_vars if var.name.startswith(\"discriminator\")]\n",
    "\n",
    "# Optimizer\n",
    "d_train_opt = tf.train.AdamOptimizer(learning_rate=G_LR, beta1=BETA1_G, beta2=0.9).minimize(d_loss, var_list=d_vars, colocate_gradients_with_ops=True)\n",
    "g_train_opt = tf.train.AdamOptimizer(learning_rate=D_LR, beta1=BETA1_D, beta2=0.9).minimize(g_loss, var_list=g_vars, colocate_gradients_with_ops=True)"
   ]
  },
  {
   "cell_type": "markdown",
   "metadata": {},
   "source": [
    "### Training"
   ]
  },
  {
   "cell_type": "code",
   "execution_count": 10,
   "metadata": {},
   "outputs": [
    {
     "name": "stdout",
     "output_type": "stream",
     "text": [
      "Epoch 1/101... Discriminator Loss: 0.4199... Generator Loss: -0.0158\n",
      "Epoch 101/101... Discriminator Loss: -0.0510... Generator Loss: -0.2821\n"
     ]
    }
   ],
   "source": [
    "# Select the dataset to train\n",
    "index = DATASET.index\n",
    "number_of_rows = len(index)\n",
    "\n",
    "samples = []\n",
    "losses = []\n",
    "saver = tf.train.Saver(var_list = g_vars)\n",
    "with tf.Session() as sess:\n",
    "    sess.run(tf.global_variables_initializer())\n",
    "    for e in range(EPOCHS):\n",
    "        for ii in range(number_of_rows//BATCH_SIZE):\n",
    "\n",
    "            data = DATASET.sample(BATCH_SIZE) \n",
    "            \n",
    "            # Sample random noise for G\n",
    "            batch_z = np.random.uniform(-1, 1, size=(BATCH_SIZE, Z_SIZE))\n",
    "\n",
    "            # Run optimizers\n",
    "            _ = sess.run(d_train_opt, feed_dict={input_real: data, input_z: batch_z})\n",
    "            _ = sess.run(g_train_opt, feed_dict={input_z: batch_z})\n",
    "\n",
    "        # At each 100 epochs, get the losses and print them out\n",
    "        train_loss_d = sess.run(d_loss, {input_z: batch_z, input_real: data})\n",
    "        train_loss_g = g_loss.eval({input_z: batch_z})\n",
    "        \n",
    "        if e%100 == 0:\n",
    "            print(\"Epoch {}/{}...\".format(e+1, EPOCHS),\n",
    "                  \"Discriminator Loss: {:.4f}...\".format(train_loss_d),\n",
    "                  \"Generator Loss: {:.4f}\".format(train_loss_g))\n",
    "            \n",
    "        # Save losses to view after training\n",
    "        losses.append((train_loss_d, train_loss_g))\n",
    "\n",
    "        if e==(EPOCHS-1):\n",
    "            # Sample from generator as we're training for viewing afterwards\n",
    "            sample_z = np.random.uniform(-1, 1, size=(AMOUNT_TO_GENERATE, Z_SIZE))\n",
    "            gen_samples = sess.run(\n",
    "                           generator(input_z, INPUT_SIZE, reuse=True),\n",
    "                           feed_dict={input_z: sample_z})\n",
    "            samples.append(gen_samples)\n",
    "            saver.save(sess, './checkpoints/generator.ckpt')"
   ]
  },
  {
   "cell_type": "markdown",
   "metadata": {},
   "source": [
    "### Losses graphic"
   ]
  },
  {
   "cell_type": "code",
   "execution_count": 15,
   "metadata": {},
   "outputs": [
    {
     "data": {
      "text/plain": [
       "<matplotlib.legend.Legend at 0x2b74e013400>"
      ]
     },
     "execution_count": 15,
     "metadata": {},
     "output_type": "execute_result"
    },
    {
     "data": {
      "image/png": "[encoded data removed]",
      "text/plain": [
       "<Figure size 432x288 with 1 Axes>"
      ]
     },
     "metadata": {
      "needs_background": "light"
     },
     "output_type": "display_data"
    }
   ],
   "source": [
    "fig, ax = plt.subplots()\n",
    "losses = np.array(losses)\n",
    "plt.plot(losses.T[0], label='Discriminator')\n",
    "plt.plot(losses.T[1], label='Generator')\n",
    "plt.title(\"Training Losses\")\n",
    "plt.legend()"
   ]
  },
  {
   "cell_type": "markdown",
   "metadata": {},
   "source": [
    "### Save the generated data to a csv file "
   ]
  },
  {
   "cell_type": "code",
   "execution_count": 27,
   "metadata": {},
   "outputs": [],
   "source": [
    "samples[0] #= (out, logists)\n",
    "output, generated_data = samples[0]\n",
    "generated_data.shape\n",
    "\n",
    "file_name = \"GAN_generation/GAN_Generated_Data/WGAN_GP_generated_\"+DATASET.name+\".csv\"\n",
    "\n",
    "# Save training generator samples\n",
    "np.savetxt(file_name,output,delimiter=\",\")"
   ]
  }
 ],
 "metadata": {
  "kernelspec": {
   "display_name": "Python 3",
   "language": "python",
   "name": "python3"
  },
  "language_info": {
   "codemirror_mode": {
    "name": "ipython",
    "version": 3
   },
   "file_extension": ".py",
   "mimetype": "text/x-python",
   "name": "python",
   "nbconvert_exporter": "python",
   "pygments_lexer": "ipython3",
   "version": "3.6.5"
  }
 },
 "nbformat": 4,
 "nbformat_minor": 2
}

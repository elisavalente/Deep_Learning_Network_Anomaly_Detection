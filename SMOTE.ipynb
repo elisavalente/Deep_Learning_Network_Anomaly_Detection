{
 "cells": [
  {
   "cell_type": "code",
   "execution_count": 3,
   "metadata": {},
   "outputs": [],
   "source": [
    "import pandas as pd\n",
    "from collections import Counter\n",
    "from imblearn import under_sampling, over_sampling\n",
    "from imblearn.over_sampling import SMOTE\n",
    "from sklearn.utils import shuffle"
   ]
  },
  {
   "cell_type": "markdown",
   "metadata": {},
   "source": [
    "### Load training data"
   ]
  },
  {
   "cell_type": "code",
   "execution_count": 4,
   "metadata": {},
   "outputs": [],
   "source": [
    "Bot_train = pd.read_csv('Train_test_data/Bot_train.csv', sep=',')\n",
    "\n",
    "WebAttack_train = pd.read_csv('Train_test_data/WebAttack_train.csv', sep=',') \n",
    "\n",
    "Brute_Force_train = pd.read_csv('Train_test_data/Brute_Force_train.csv', sep=',') \n",
    "\n",
    "Dos_train = pd.read_csv('Train_test_data/Dos_train.csv', sep=',')"
   ]
  },
  {
   "cell_type": "markdown",
   "metadata": {},
   "source": [
    "### SMOTE"
   ]
  },
  {
   "cell_type": "code",
   "execution_count": 5,
   "metadata": {},
   "outputs": [
    {
     "name": "stdout",
     "output_type": "stream",
     "text": [
      "Counter({0.0: 83997, 1.0: 83997})\n",
      "Counter({0: 71907, 1: 71907, 2: 71907})\n",
      "Counter({0: 184847, 1: 184847, 2: 184847})\n",
      "Counter({2: 192354, 0: 192354, 1: 192354, 4: 192354, 3: 192354})\n"
     ]
    }
   ],
   "source": [
    "oversample = SMOTE()\n",
    "\n",
    "bot_smote, y = oversample.fit_resample(Bot_train, Bot_train[' Label'])\n",
    "counter = Counter(y)\n",
    "print(counter)\n",
    "\n",
    "WebAttack_smote, y = oversample.fit_resample(WebAttack_train, WebAttack_train[' Label'])\n",
    "counter = Counter(y)\n",
    "print(counter)\n",
    "\n",
    "Brute_Force_smote, y = oversample.fit_resample(Brute_Force_train, Brute_Force_train[' Label'])\n",
    "counter = Counter(y)\n",
    "print(counter)\n",
    "\n",
    "Dos_smote, y = oversample.fit_resample(Dos_train, Dos_train[' Label'])\n",
    "counter = Counter(y)\n",
    "print(counter)"
   ]
  },
  {
   "cell_type": "markdown",
   "metadata": {},
   "source": [
    "### SMOTE data generated SHUFFLE"
   ]
  },
  {
   "cell_type": "code",
   "execution_count": 6,
   "metadata": {},
   "outputs": [],
   "source": [
    "bot_smote = shuffle(bot_smote)\n",
    "WebAttack_smote  = shuffle(WebAttack_smote)\n",
    "Brute_Force_smote  = shuffle(Brute_Force_smote)\n",
    "Dos_smote = shuffle(Dos_smote)"
   ]
  },
  {
   "cell_type": "markdown",
   "metadata": {},
   "source": [
    "### Save SMOTE generated data in csv files"
   ]
  },
  {
   "cell_type": "code",
   "execution_count": 7,
   "metadata": {},
   "outputs": [],
   "source": [
    "bot_smote.to_csv(r'SMOTE_Balanced_Data/Botnet_smote_train.csv', index = False)\n",
    "WebAttack_smote.to_csv(r'SMOTE_Balanced_Data/WebAttack_smote_train.csv', index = False)\n",
    "Brute_Force_smote.to_csv(r'SMOTE_Balanced_Data/Brute_Force_smote_train.csv', index = False)\n",
    "Dos_smote.to_csv(r'SMOTE_Balanced_Data/Dos_smote_train.csv', index = False)"
   ]
  }
 ],
 "metadata": {
  "kernelspec": {
   "display_name": "Python 3",
   "language": "python",
   "name": "python3"
  },
  "language_info": {
   "codemirror_mode": {
    "name": "ipython",
    "version": 3
   },
   "file_extension": ".py",
   "mimetype": "text/x-python",
   "name": "python",
   "nbconvert_exporter": "python",
   "pygments_lexer": "ipython3",
   "version": "3.6.5"
  }
 },
 "nbformat": 4,
 "nbformat_minor": 2
}

{
 "cells": [
  {
   "cell_type": "code",
   "execution_count": null,
   "metadata": {},
   "outputs": [],
   "source": [
    "import pandas as pd\n",
    "import random\n",
    "import numpy\n",
    "import math\n",
    "import seaborn as sns\n",
    "from sklearn.utils import shuffle\n",
    "from matplotlib import pyplot\n",
    "from collections import Counter"
   ]
  },
  {
   "cell_type": "markdown",
   "metadata": {},
   "source": [
    "### Load GAN generated data"
   ]
  },
  {
   "cell_type": "code",
   "execution_count": null,
   "metadata": {},
   "outputs": [],
   "source": [
    "GAN_Bot = pd.read_csv('GAN_generation/GAN_Generated_Data/Standard_GAN_generated_Bot.csv', sep=',')\n",
    "WGAN_GP_Bot = pd.read_csv('GAN_generation/GAN_Generated_Data/WGAN_GP_generated_Bot.csv', sep=',')\n",
    "\n",
    "GAN_BF_SSH_Patator = pd.read_csv('GAN_generation/GAN_Generated_Data/Standard_GAN_generated_BF_SSH_Patator.csv', sep=',')\n",
    "WGAN_BF_SSH_Patator = pd.read_csv('GAN_generation/GAN_Generated_Data/WGAN_GP_generated_BF_SSH_Patator.csv', sep=',')\n",
    "\n",
    "GAN_BF_FTP_Patator = pd.read_csv('GAN_generation/GAN_Generated_Data/Standard_GAN_generated_BF_FTP_Patator.csv', sep=',')\n",
    "WGAN_BF_FTP_Patator = pd.read_csv('GAN_generation/GAN_Generated_Data/WGAN_GP_generated_BF_FTP_Patator.csv', sep=',')\n",
    "\n",
    "GAN_WA_Brute_Force = pd.read_csv('GAN_generation/GAN_Generated_Data/Standard_GAN_generated_WA_Brute_Force.csv', sep=',')\n",
    "WGAN_WA_Brute_Force = pd.read_csv('GAN_generation/GAN_Generated_Data/WGAN_GP_generated_WA_Brute_Force.csv', sep=',')\n",
    "\n",
    "GAN_WA_XSS = pd.read_csv('GAN_generation/GAN_Generated_Data/Standard_GAN_generated_WA_XSS.csv', sep=',')\n",
    "WGAN_WA_XSS = pd.read_csv('GAN_generation/GAN_Generated_Data/WGAN_GP_generated_WA_XSS.csv', sep=',')\n",
    "\n",
    "GAN_DoS_GoldenEye = pd.read_csv('GAN_generation/GAN_Generated_Data/Standard_GAN_generated_DoS_GoldenEye.csv', sep=',')\n",
    "WGAN_DoS_GoldenEye = pd.read_csv('GAN_generation/GAN_Generated_Data/WGAN_GP_generated_DoS_GoldenEye.csv', sep=',')\n",
    "\n",
    "GAN_DoS_Hulk = pd.read_csv('GAN_generation/GAN_Generated_Data/Standard_GAN_generated_DoS_Hulk.csv', sep=',')\n",
    "WGAN_DoS_Hulk = pd.read_csv('GAN_generation/GAN_Generated_Data/WGAN_GP_generated_DoS_Hulk.csv', sep=',')\n",
    "\n",
    "GAN_DoS_Slowhttptest = pd.read_csv('GAN_generation/GAN_Generated_Data/Standard_GAN_generated_DoS_Slowhttptest.csv', sep=',')\n",
    "WGAN_DoS_Slowhttptest = pd.read_csv('GAN_generation/GAN_Generated_Data/WGAN_GP_generated_DoS_Slowhttptest.csv', sep=',')\n",
    "\n",
    "GAN_DoS_Slowlori = pd.read_csv('GAN_generation/GAN_Generated_Data/Standard_GAN_generated_DoS_Slowlori.csv', sep=',')\n",
    "WGAN_DoS_Slowlori = pd.read_csv('GAN_generation/GAN_Generated_Data/WGAN_GP_generated_DoS_Slowlori.csv', sep=',')\n"
   ]
  },
  {
   "cell_type": "markdown",
   "metadata": {},
   "source": [
    "### Load original data"
   ]
  },
  {
   "cell_type": "code",
   "execution_count": null,
   "metadata": {},
   "outputs": [],
   "source": [
    "Bot = pd.read_csv('GAN_generation/Bot_Attack_Data_for_GAN.csv', sep=',')\n",
    "\n",
    "\n",
    "BF_SSH_Patator = pd.read_csv('GAN_generation/Brute_Force_SSH_Patator_Data.csv', sep=',')\n",
    "\n",
    "BF_FTP_Patator = pd.read_csv('GAN_generation/Brute_Force_FTP_Patator_Data.csv', sep=',')\n",
    "\n",
    "\n",
    "WA_Brute_Force = pd.read_csv('GAN_generation/Web_Attack_Brute_Force_Data.csv', sep=',')\n",
    "\n",
    "WA_XSS = pd.read_csv('GAN_generation/Web_Attack_XSS_Data.csv', sep=',')\n",
    "\n",
    "\n",
    "DoS_GoldenEye = pd.read_csv('GAN_generation/Dos_GoldenEye_Data.csv', sep=',')\n",
    "\n",
    "DoS_Hulk = pd.read_csv('GAN_generation/DoS_Hulk_Data.csv', sep=',')\n",
    "\n",
    "DoS_Slowhttptest = pd.read_csv('GAN_generation/DoS_Slowhttptest_Data.csv', sep=',')\n",
    "\n",
    "DoS_Slowlori = pd.read_csv('GAN_generation/DoS_Slowlori_Data.csv', sep=',')"
   ]
  },
  {
   "cell_type": "markdown",
   "metadata": {},
   "source": [
    "### Load the pre-processed training set "
   ]
  },
  {
   "cell_type": "code",
   "execution_count": null,
   "metadata": {},
   "outputs": [],
   "source": [
    "Bot_train = pd.read_csv('Train_test_data/Bot_train.csv', sep=',')\n",
    "\n",
    "WebAttack_train = pd.read_csv('Train_test_data/WebAttack_train.csv', sep=',') \n",
    "\n",
    "Brute_Force_train = pd.read_csv('Train_test_data/Brute_Force_train.csv', sep=',') \n",
    "\n",
    "Dos_train = pd.read_csv('Train_test_data/Dos_train.csv', sep=',')"
   ]
  },
  {
   "cell_type": "markdown",
   "metadata": {},
   "source": [
    "### GAN generated data pre-processing"
   ]
  },
  {
   "cell_type": "code",
   "execution_count": null,
   "metadata": {},
   "outputs": [],
   "source": [
    "# change the generated column names to the original ones\n",
    "for i in [GAN_Bot, WGAN_GP_Bot]:\n",
    "    i.columns = Bot_train.columns\n",
    "\n",
    "for i in [GAN_BF_SSH_Patator, WGAN_BF_SSH_Patator, GAN_BF_FTP_Patator, WGAN_BF_FTP_Patator]: \n",
    "    i.columns = Brute_Force_train.columns\n",
    "\n",
    "for i in [GAN_WA_Brute_Force, WGAN_WA_Brute_Force, GAN_WA_XSS, WGAN_WA_XSS]:\n",
    "    i.columns = WebAttack_train.columns\n",
    "\n",
    "for i in [GAN_DoS_GoldenEye, WGAN_DoS_GoldenEye, GAN_DoS_Hulk, WGAN_DoS_Hulk, GAN_DoS_Slowhttptest, WGAN_DoS_Slowhttptest, GAN_DoS_Slowlori, WGAN_DoS_Slowlori]:\n",
    "    i.columns = Dos_train.columns\n"
   ]
  },
  {
   "cell_type": "code",
   "execution_count": null,
   "metadata": {},
   "outputs": [],
   "source": [
    "# Change the label values to the original ones \n",
    "GAN_Bot[' Label']=1\n",
    "WGAN_GP_Bot[' Label']=1\n",
    "\n",
    "GAN_BF_SSH_Patator[' Label']=2\n",
    "WGAN_BF_SSH_Patator[' Label']=2\n",
    "\n",
    "GAN_BF_FTP_Patator[' Label']=1\n",
    "WGAN_BF_FTP_Patator[' Label']=1\n",
    "\n",
    "GAN_WA_Brute_Force[' Label']=1\n",
    "WGAN_WA_Brute_Force[' Label']=1\n",
    "\n",
    "GAN_WA_XSS[' Label']=2\n",
    "WGAN_WA_XSS[' Label']=2\n",
    "\n",
    "GAN_DoS_GoldenEye[' Label']=1\n",
    "WGAN_DoS_GoldenEye[' Label']=1\n",
    "\n",
    "GAN_DoS_Hulk[' Label']=2\n",
    "WGAN_DoS_Hulk[' Label']=2\n",
    "\n",
    "GAN_DoS_Slowhttptest[' Label']=3\n",
    "WGAN_DoS_Slowhttptest[' Label']=3\n",
    "\n",
    "GAN_DoS_Slowlori[' Label']=4\n",
    "WGAN_DoS_Slowlori[' Label']=4"
   ]
  },
  {
   "cell_type": "code",
   "execution_count": null,
   "metadata": {},
   "outputs": [],
   "source": [
    "# Binary atributes transformation\n",
    "for i in [GAN_Bot, WGAN_GP_Bot, GAN_BF_SSH_Patator, WGAN_BF_SSH_Patator, GAN_BF_FTP_Patator, WGAN_BF_FTP_Patator, GAN_WA_Brute_Force, WGAN_WA_Brute_Force, GAN_WA_XSS, WGAN_WA_XSS, GAN_DoS_GoldenEye, WGAN_DoS_GoldenEye, GAN_DoS_Hulk, WGAN_DoS_Hulk, GAN_DoS_Slowhttptest, WGAN_DoS_Slowhttptest, GAN_DoS_Slowlori, WGAN_DoS_Slowlori]:\n",
    "    for j in [i['Active Mean'], i[' Active Std'], i[' Idle Std'], i['Fwd PSH Flags'], i['FIN Flag Count'], i[' RST Flag Count'], i[' ACK Flag Count'], i[' URG Flag Count']]:\n",
    "        j[j<0.5]=0\n",
    "        j[j>=0.5]=1"
   ]
  },
  {
   "cell_type": "markdown",
   "metadata": {},
   "source": [
    "### GAN generated data Shuffle"
   ]
  },
  {
   "cell_type": "code",
   "execution_count": null,
   "metadata": {},
   "outputs": [],
   "source": [
    "for i in [GAN_Bot, WGAN_GP_Bot, GAN_BF_SSH_Patator, WGAN_BF_SSH_Patator, GAN_BF_FTP_Patator, WGAN_BF_FTP_Patator, GAN_WA_Brute_Force, WGAN_WA_Brute_Force, GAN_WA_XSS, WGAN_WA_XSS, GAN_DoS_GoldenEye, WGAN_DoS_GoldenEye, GAN_DoS_Hulk, WGAN_DoS_Hulk, GAN_DoS_Slowhttptest, WGAN_DoS_Slowhttptest, GAN_DoS_Slowlori, WGAN_DoS_Slowlori]:\n",
    "    i=shuffle(i)"
   ]
  },
  {
   "cell_type": "markdown",
   "metadata": {},
   "source": [
    "### Euclidean Distance & Histograms"
   ]
  },
  {
   "cell_type": "code",
   "execution_count": null,
   "metadata": {},
   "outputs": [],
   "source": [
    "#Choose the data to measure\n",
    "ORIGINAL_DATA = Bot\n",
    "GENERATED_DATA = GAN_Bot\n",
    "\n",
    "\n",
    "NUMBER_ROWS = len(ORIGINAL_DATA)\n",
    "GENERATED_DATA = GENERATED_DATA[:NUMBER_ROWS]\n",
    "\n",
    "for feature in ORIGINAL_DATA.columns:\n",
    "    array = [value for value in ORIGINAL_DATA[feature]]\n",
    "    temp =  [value for value in GENERATED_DATA[feature]]\n",
    "    \n",
    "    array.sort()\n",
    "    temp.sort()\n",
    "   \n",
    "    x=tuple(array)\n",
    "    y= tuple(temp)\n",
    "\n",
    "    distance = math.sqrt(sum([(a - b) ** 2 for a, b in zip(x, y)]))\n",
    "    euclidean_distance = distance/NUMBER_ROWS\n",
    "\n",
    "    print('Euclidean Distance of ' + feature + ': ' + str(euclidean_distance))\n",
    "    pyplot.figure()\n",
    "    pyplot.hist(array, alpha=0.7, label='Original')\n",
    "    pyplot.hist(temp, alpha=0.7, label='Generated')\n",
    "    pyplot.legend(loc='upper right')\n",
    "    pyplot.show()"
   ]
  },
  {
   "cell_type": "markdown",
   "metadata": {},
   "source": [
    "### Join the generated data to the train set"
   ]
  },
  {
   "cell_type": "code",
   "execution_count": null,
   "metadata": {},
   "outputs": [],
   "source": [
    "GAN_Bot_train = pd.concat([GAN_Bot, Bot_train])\n",
    "WGAN_GP_Bot_train = pd.concat([WGAN_GP_Bot, Bot_train])\n",
    "\n",
    "GAN_Brute_Force_train = pd.concat([GAN_BF_SSH_Patator, GAN_BF_FTP_Patator, Brute_Force_train])\n",
    "WGAN_GP_Brute_Force_train = pd.concat([WGAN_BF_SSH_Patator, WGAN_BF_FTP_Patator, Brute_Force_train])\n",
    "\n",
    "GAN_WebAttack_train = pd.concat([GAN_WA_Brute_Force, GAN_WA_XSS, WebAttack_train])\n",
    "WGAN_GP_WebAttack_train = pd.concat([WGAN_WA_Brute_Force, WGAN_WA_XSS, WebAttack_train])\n",
    "\n",
    "GAN_DoS_train = pd.concat([GAN_DoS_GoldenEye, GAN_DoS_Hulk, GAN_DoS_Slowhttptest, GAN_DoS_Slowlori, Dos_train])\n",
    "WGAN_GP_DoS_train = pd.concat([WGAN_DoS_GoldenEye, WGAN_DoS_Hulk, WGAN_DoS_Slowhttptest, WGAN_DoS_Slowlori, Dos_train])\n",
    " \n",
    "counter = Counter(WGAN_GP_DoS_train[' Label'])\n",
    "print(counter)"
   ]
  },
  {
   "cell_type": "markdown",
   "metadata": {},
   "source": [
    "### Train set shuffle"
   ]
  },
  {
   "cell_type": "code",
   "execution_count": null,
   "metadata": {},
   "outputs": [],
   "source": [
    "for i in [GAN_Bot_train, WGAN_GP_Bot_train, GAN_Brute_Force_train, WGAN_GP_Brute_Force_train, GAN_WebAttack_train, WGAN_GP_WebAttack_train, GAN_DoS_train, WGAN_GP_DoS_train]:\n",
    "    i=shuffle(i)"
   ]
  },
  {
   "cell_type": "markdown",
   "metadata": {},
   "source": [
    "### Save the GAN balanced training set"
   ]
  },
  {
   "cell_type": "code",
   "execution_count": null,
   "metadata": {},
   "outputs": [],
   "source": [
    "GAN_Bot_train.to_csv(r'GAN_generation\\GAN_Balanced_Data/GAN_Bot_train.csv', index = False)\n",
    "WGAN_GP_Bot_train.to_csv(r'GAN_generation\\WGAN_GP_Balanced_Data/WGAN_GP_Bot_train.csv', index = False)\n",
    "\n",
    "GAN_Brute_Force_train.to_csv(r'GAN_generation\\GAN_Balanced_Data/GAN_Brute_Force_train.csv', index = False)\n",
    "WGAN_GP_Brute_Force_train.to_csv(r'GAN_generation\\WGAN_GP_Balanced_Data/WGAN_GP_Brute_Force_train.csv', index = False)\n",
    "\n",
    "GAN_WebAttack_train.to_csv(r'GAN_generation\\GAN_Balanced_Data/GAN_WebAttack_train.csv', index = False)\n",
    "WGAN_GP_WebAttack_train.to_csv(r'GAN_generation\\WGAN_GP_Balanced_Data/WGAN_GP_WebAttack_train.csv', index = False)\n",
    "\n",
    "GAN_DoS_train.to_csv(r'GAN_generation\\GAN_Balanced_Data/GAN_DoS_train.csv', index = False)\n",
    "WGAN_GP_DoS_train.to_csv(r'GAN_generation\\WGAN_GP_Balanced_Data/WGAN_GP_DoS_train.csv', index = False)"
   ]
  },
  {
   "cell_type": "code",
   "execution_count": null,
   "metadata": {},
   "outputs": [],
   "source": []
  }
 ],
 "metadata": {
  "kernelspec": {
   "display_name": "Python 3",
   "language": "python",
   "name": "python3"
  },
  "language_info": {
   "codemirror_mode": {
    "name": "ipython",
    "version": 3
   },
   "file_extension": ".py",
   "mimetype": "text/x-python",
   "name": "python",
   "nbconvert_exporter": "python",
   "pygments_lexer": "ipython3",
   "version": "3.6.5"
  }
 },
 "nbformat": 4,
 "nbformat_minor": 2
}
